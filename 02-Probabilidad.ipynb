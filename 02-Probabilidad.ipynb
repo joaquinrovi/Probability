{
 "cells": [
  {
   "cell_type": "markdown",
   "metadata": {},
   "source": [
    "<a href=\"https://colab.research.google.com/github/alfonsocude/Probability/blob/main/02-Probabilidad.ipynb\" target=\"_parent\"><img src=\"https://colab.research.google.com/assets/colab-badge.svg\" alt=\"Open In Colab\"/></a>\n",
    "\n",
    "\n",
    "**Recuerda que una vez abierto, Da clic en \"Copiar en Drive\", de lo contrario no podras almancenar tu progreso**\n",
    "\n",
    "Nota: no olvide ir ejecutando las celdas de código de arriba hacia abajo para que no tenga errores de importación de librerías o por falta de definición de variables."
   ]
  },
  {
   "cell_type": "code",
   "execution_count": null,
   "metadata": {},
   "outputs": [],
   "source": [
    "!wget --no-cache -O init.py -q https://raw.githubusercontent.com/alfonsocude/Probability/master/init.py\n",
    "import init; init.init(force_download=False); \n",
    "from IPython.display import Image"
   ]
  },
  {
   "cell_type": "markdown",
   "metadata": {},
   "source": [
    "# **Probabilidad**\n",
    "La probabilidad es un mecanismo por medio del cual pueden estudiarse sucesos aleatorios y así asociar una medidad de incertidumbre de la posibilidad de ocurrencia que tienen los resultados de algún experimento.\n",
    "\n",
    "Los espacios de probabilidad son suposiciones de las observaciones generadas por fenómenos o eventos, conociendo los *posibles resultados* que se encuentren durante la obervación o experimentación. \n",
    "\n",
    "Para desarrollar correctamente la teoría de probabilidad, se consideran las siguientes definiciones:\n",
    "\n",
    "**Experimento Aleatorio**: Se dice que un experimento que no sabemos de antemano que posibles resultados se van a encontrar, es un proceso que se realiza varias veces bajo las mismas condiciones y que produce resultados diferentes en cada ocurrencia, lo notaremos por medio de $\\epsilon$.   \n",
    "\n",
    "**Espacio Muestral:** Es el conjunto de posibles resultados de un experimento aleatorio, lo representaremos por medio de la letra $\\Omega$.\n",
    "\n",
    "**Evento:** Consideremos un experimento aleatorio $\\epsilon$ y su correspondiente espacio muestral $\\Omega$. Llamaremos **evento** a uns subconjunto cualquiera de $\\Omega$.\n",
    "\n",
    "**Evento nulo y evento simple:**  Lamaremos **evento nulo** al subconjunto de $\\Omega$ que no contiene elementos y lo notaremos por $\\emptyset$ y un **evento simple** es un evento que no se puede descomponer.\n",
    "\n",
    "*Nota: El signo $\\emptyset$ que es el vacio en teoría de conjuntos, en el concepto de evento significa que es un evento imposible que se presente.*\n",
    "\n",
    "**Espacio Muestral Continuo:** Es el conjunto de posibles resultados de un experimento o evento cuando esta definido en un intervalo dado.\n",
    "\n",
    "**Espacio Muestral Discreto:** Es el conjunto de posibles resultados de un experimento o evento cuando esta definido de forma finita o enumerado con valores enteros.\n",
    "\n",
    "**Ejemplos:**\n",
    "\n",
    "A) Lanzamiento de dos dados:\n",
    "\n",
    "$$\n",
    "    \\Omega = \\lbrace (1,1), (1,2),\\ldots, (6,6) \\rbrace\n",
    "$$\n",
    "\n",
    "Si cada dado tiene 6 lados, entonces el número de posibles resultados es $N(\\Omega) = 36$.\n",
    "\n",
    "B) Lanzamiento de dos dados y observar el resultado de la suma.\n",
    "\n",
    "$$\n",
    "    \\Omega = \\lbrace 2, 3,\\ldots, 12\\rbrace\n",
    "$$\n",
    "\n",
    "En este caso, el máximo número es $\\max N(\\Omega) = 12$\n",
    "\n",
    "C) Observar el tiempo que tarda el rappitendero en llegar a la casa con el pedido.\n",
    "\n",
    "$$\n",
    "    \\Omega = [0, \\infty)\n",
    "$$ \n",
    "\n",
    "Si consideramos un tiempo límite, $$\\Omega = [0, M]$$\n",
    "\n",
    "donde $M$ es un tiempo límite que se estima por experiencia o conocimiento previo de los domicilios.\n",
    "\n",
    "**Ejemplo:**\n",
    "\n",
    "Conseremos $\\mathbb{F}$ como un evento y $\\Omega$ un espacio muestral. Si \n",
    "$$\n",
    "\\mathbb{F} = \\lbrace \\emptyset, \\lbrace 1\\rbrace, \\lbrace 2\\rbrace, \\lbrace 3\\rbrace, \\Omega \\rbrace,\n",
    "$$ \n",
    "donde $\\lbrace \\cdot \\rbrace$ es un subconjunto, si decimos que ocurrio un evento $\\lbrace 2,3 \\rbrace$, observen que no está definido en $\\mathbb{F}$ y por consiguiente, no se considera como un evento existente. Sin embargo, si ampliamos los subconjuntos como \n",
    "$$\n",
    "\\mathbb{F} = \\lbrace \\emptyset, \\lbrace 1\\rbrace, \\lbrace 2\\rbrace, \\lbrace 3\\rbrace, \\lbrace 1,2 \\rbrace, \\lbrace 2,3 \\rbrace, \\lbrace 1,3\\rbrace, \\Omega \\rbrace,\n",
    "$$ \n",
    "y consideramos de nuevo el evento \n",
    "$$\n",
    "\\lbrace 2,3 \\rbrace,\n",
    "$$ \n",
    "entonces podemos afirmar que si sucedio el evento. \n",
    "\n",
    "**Ocurrencia de un evento:** Consideremos $A$ como un evento. Si $A$ ocurre, entonces el experimento u observación se obtiene un elemento de $A$.\n",
    "\n",
    "**Ejemplo:**\n",
    "\n",
    "Consideremos lo siguiente:\n",
    "\n",
    "$\\epsilon:$ Lanzamiento de un dado y anotar el resultado.\n",
    "\n",
    "$\\Omega:\\{1,2,3,4,5,6\\}$\n",
    "\n",
    "Consideremos los siguientes eventos:\n",
    "\n",
    "$A:$ obtener un número par, entonces $A=\\{2,4,6\\}$. Si hay un evento que salga par, entonces si lanza el dado y se obtiene un número par, como el número 4, se dice que el evento ocurre.\n",
    "\n",
    "Ahora consideremos el evento $B:$ obtener un número primo, entonces $B = \\{1,3,5\\}$.\n",
    "\n",
    "**Ocurrencia de dos eventos:** Si $A$ y $B$ son dos eventos, entonces se simboliza como $A \\cap B$.\n",
    "\n",
    "Entonces el evento $A\\cap B:$ obtener un número par y primo es \n",
    "$$\n",
    "    A\\cap B= \\{2\\}\n",
    "$$ \n",
    "\n",
    "**Ejemplo:** \n",
    "\n",
    "Si $A$ es el lanzamientos de un dado y $B$ es el lanzamiento de otro dado, si al realizar el lanzamiento simultáneo de ambos da un número par igual, como el número 4, entonces $A \\cap B = 4$. \n",
    "\n",
    "**Eventos mutuamente excluyentes:** Si $A$ y $B$ son dos eventos, entonces $A \\cap B = \\emptyset$, lo cual no tienen elementos en común.\n",
    "\n",
    "**Ejemplo:** \n",
    "\n",
    "Si $A$ es el lanzamientos de un dado y $B$ es el lanzamiento de otro dado, si al realizar el lanzamiento simultáneo de ambos da un número 4 y un número 6, entonces $A \\cap B = \\emptyset$ y por consiguiente, son eventos excluyentes uno con respecto al otro.\n"
   ]
  },
  {
   "cell_type": "markdown",
   "metadata": {},
   "source": [
    "### **Simulación lanzamiento de un dado**\n",
    "\n",
    "Vamos a realizar el experimento de lanzar un dado un número $n$ de veces. Podemos asignarle diferentes valores a $n$ para analizar el comportamiento de los resultados."
   ]
  },
  {
   "cell_type": "code",
   "execution_count": 260,
   "metadata": {},
   "outputs": [
    {
     "name": "stdout",
     "output_type": "stream",
     "text": [
      "La frecuencia  para cada resultado del dado es:  [(3, 1)]\n",
      "La frecuencia relativa de cada resultado del dado es:  [1.]\n"
     ]
    },
    {
     "data": {
      "image/png": "[encoded data removed]",
      "text/plain": [
       "<Figure size 864x432 with 1 Axes>"
      ]
     },
     "metadata": {
      "needs_background": "light"
     },
     "output_type": "display_data"
    }
   ],
   "source": [
    "import numpy as np\n",
    "import matplotlib.pyplot as plt\n",
    "from collections import Counter\n",
    "\n",
    "n = 1 #Número de lanzamientos de un dado\n",
    "\n",
    "dado = np.random.randint(1,7,n) #El tercer parámertro hace variar el número de lanzamientos del dado\n",
    "\n",
    "valores_dado = sorted(Counter(dado).items())\n",
    "frec_rel = np.array([valores_dado[i][1] for i in range(len(valores_dado))]) / n\n",
    "print('La frecuencia  para cada resultado del dado es: ', valores_dado)\n",
    "print('La frecuencia relativa de cada resultado del dado es: ', frec_rel)\n",
    "\n",
    "fig = plt.figure(figsize=(12, 6))\n",
    "ax = fig.add_subplot(121)\n",
    "\n",
    "plt.hist(dado)\n",
    "\n",
    "plt.title('Lanzamiento de un dado')\n",
    "plt.xlabel('Resultado')\n",
    "plt.ylabel('Número de veces que aparece el resultado')\n",
    "ax.set_xlim([0, 6.5])\n",
    "\n",
    "plt.show()"
   ]
  },
  {
   "cell_type": "markdown",
   "metadata": {},
   "source": [
    "Observen que ha medida que aumenta $n$, se estabiliza la frecuencia relativa. Lo anterior se llama **regularidad estadística**, el cual permite hacer predicciones que eliminan, aunque sea parcial, la incertidumbre en los fenómenos impredecibles. Sin embargo, el valor de $f(A)$ alrededor del cual se está estabilizando la frecuencia relativa de *un evento*, indica la *posibilidad* de ocurrencia de un solo evento."
   ]
  },
  {
   "cell_type": "markdown",
   "metadata": {},
   "source": [
    "## **Probabilidad**\n",
    "\n",
    "Es la asignación de un número real postivo, entre $0$ y $1$, a cada evento que indique la posibilidad que el evento ocurra.\n",
    "\n",
    "Suponga que en un experimento se puede realizar $n$ veces bajo las mismas condiciones. Si consideramos un evento $A$, se puede afirmar que:\n",
    "\n",
    "$$f(A) = \\frac{n(A)}{n}$$\n",
    "\n",
    "donde $n(A)$ es el número de veces que ocurre en $n$ experimentos. La anterior fórmula se llama **frecuencia relativa** que permite conocer una valor probable que suceda un evento de acuerdo al número de veces que se genera un evento. \n",
    "\n",
    "Veamos un ejemplo práctico de la frecuencia relativa.\n",
    "\n",
    "Considerando lo anterior, definimos $\\mathbb{P}(A)$ como la probabilidad de un evento, que cumple las siguientes propiedades:\n",
    "\n",
    "1.   Si $n(A) \\geq 0$, entonces $0 \\leq \\mathbb{P}(A) \\leq 1$\n",
    "2.   Si $n(\\Omega) = n$, entonces $\\mathbb{P}(\\Omega) = 1$\n",
    "3.   Si $A$ y $B$ son dos eventos excluyentes, entonces $n(A \\cup B) = n(A) + n(B)$ y por consiguiente, $\\mathbb{P}(A \\cup B) = \\mathbb{P}(A) + \\mathbb{P}(B) - \\mathbb{P}(A \\cap B)$\n",
    "4.   Si consideramos un conjunto de eventos mutuamente excluyentes, $A_1, \\ldots, A_i, \\ldots, A_N$, entonces:\n",
    "\n",
    "$$\\mathbb{P}\\left( \\bigcup_{i=1}^N A_i \\right) = \\sum_{i=1}^N \\mathbb{P}(A_i)$$\n",
    "\n",
    "5.   El complemento de la probabilidad de un evento $A$:\n",
    "\n",
    "$$\\mathbb{P}(A^c) = 1 - \\mathbb{P}(A)$$\n",
    "\n"
   ]
  },
  {
   "cell_type": "markdown",
   "metadata": {},
   "source": [
    "### **Espacio de Probabilidad Laplaciano**\n",
    "\n",
    "Es un caso de probabilidad donde el experimento aleatorio tiene un número finito de posibles resultados, donde cada uno tiene la misma probabilidad de ocurrencia de un evento.\n",
    "\n",
    "$$\\mathbb{P} = \\frac{n(A)}{n(\\Omega)}$$\n",
    "\n",
    "donde $n(A)$ es el número de casos favorables y $n(\\Omega)$ es el número de casos posibles. \n",
    "\n",
    "Veamos algunos ejemplos prácticos"
   ]
  },
  {
   "cell_type": "markdown",
   "metadata": {},
   "source": [
    "### **Ejemplo**\n",
    "\n",
    "Un fabricante tiene cinco terminales de computadora aparentemente idénticas listas para ser enviadas. Sin que él lo sepa, dos de las cinco están defectuosas. Un pedido en particular solicita dos de las terminales y el pedido se surte seleccionando al azar dos de las cinco de que se dispone.\n",
    "\n",
    "a. Indique el espacio muestral para el experimento.\n",
    "\n",
    "b. Denote con $A$ el evento de que el pedido se surta con dos terminales no defectuosas.\n",
    "Indique los puntos muestrales en $A$.\n",
    "\n",
    "c. Asigne probabilidades a los eventos simples en tal forma que se use la información\n",
    "acerca del experimento y se satisfagan los axiomas de la definición de medida de probabilidad.\n",
    "\n",
    "d. Encuentre la probabilidad del evento A."
   ]
  },
  {
   "cell_type": "code",
   "execution_count": null,
   "metadata": {},
   "outputs": [],
   "source": [
    "#d.\n",
    "P_E8 = 1/10\n",
    "P_E9 = 1/10\n",
    "P_E10 = 1/10\n",
    "\n",
    "P_A = P_E8 + P_E9 + P_E10 \n",
    "P_A"
   ]
  },
  {
   "cell_type": "markdown",
   "metadata": {},
   "source": [
    "### **Pasos para hallar la probabilidad de un evento**\n",
    "Los pasos siguientes se usan para hallar la probabilidad de un evento: \n",
    "\n",
    "1. Defina el experimento y determine con toda claridad cómo describir un evento simple.\n",
    "2. Indique los eventos simples asociados con el experimento y pruebe cada uno para asegurarse que no se pueden descomponer. Esto define el espacio muestral $\\Omega$.\n",
    "3. Asigne probabilidades razonables a los puntos muestrales en $\\Omega$, asegurándose de que $\\mathbb{P}(E_i) \\ge 0$ y\n",
    "$\\mathbb{P}(E_i) = 1$.\n",
    "4. Defina el evento de interés, $A$, como un conjunto específico de puntos muestrales. (Un punto muestral está en $A$ si $A$ ocurre cuando se presenta el punto muestral. Pruebe todos los puntos muestrales en $\\Omega$ para identificar los que estén en $A$.)\n",
    "5. Encuentre $\\mathbb{P}(A)$ al sumar las probabilidades de los puntos muestrales en $A$."
   ]
  },
  {
   "cell_type": "markdown",
   "metadata": {},
   "source": [
    "### **Ejercicio 1**\n",
    "\n",
    "Considere el problema de seleccionar dos solicitantes para un trabajo, de un grupo de cinco solicitantes e imagine que éstos varían en grado de competencia, 1 siendo el mejor, 2 el segundo mejor y así sucesivamente para 3, 4 y 5. Estas clasificaciones son por supuesto desconocidas para el empleador. Defina dos eventos A y B como:\n",
    "\n",
    "$A$: El empleador selecciona al mejor y a uno de los dos solicitantes menos aptos (1 y 4 o\n",
    "1 y 5).\n",
    "\n",
    "$B$: El empleador selecciona al menos uno de los dos mejores.\n",
    "Encuentre las probabilidades de estos eventos.\n",
    "\n",
    "*Respuesta: Probabilidad del evento A es 0.2 y probabilidad del evento B es 0.7*"
   ]
  },
  {
   "cell_type": "markdown",
   "metadata": {},
   "source": [
    "### **Ejercicio 2**\n",
    "\n",
    "Una moneda balanceada se lanza tres veces al aire. Calcule la probabilidad de que exactamente dos de los tres tiros resulten en caras.\n",
    "\n",
    "*Respuesta: 3/8*"
   ]
  },
  {
   "cell_type": "markdown",
   "metadata": {},
   "source": [
    "### **Ejercicio 3**\n",
    "\n",
    "Las probabilidades son dos a uno de que, cuando $A$ y $B$ juegan tenis, $A$ gane. Suponga que $A$ y $B$ juegan dos partidos. ¿Cuál es la probabilidad de que A gane al menos un partido?"
   ]
  },
  {
   "cell_type": "markdown",
   "metadata": {},
   "source": [
    "## **Conteo**\n"
   ]
  },
  {
   "cell_type": "markdown",
   "metadata": {},
   "source": [
    "### **Principio básico de conteo para la suma**\n",
    "\n",
    "Suponga que existe $ n_1 $ formas para que el evento $ E_1 $ ocurra, $ n_2 $ formas para que el evento $ E_2 $ ocurra,..., $ n_k $ formas para que el evento $ E_k $ ocurra, donde $ k\\geq 1 $. Si las formas para que los diferentes eventos ocurran son disyuntas dos a dos, entonces el número de formas para que por lo menos unos de los eventos $ E_1, E_2,\\dots, E_k $ ocurra es \n",
    "$$\n",
    "    n_1+n_2+\\dots+n_k. \n",
    "$$"
   ]
  },
  {
   "cell_type": "markdown",
   "metadata": {},
   "source": [
    "### **Principio básico de conteo para la multiplicación**\n",
    "Suponga que un evento $ E $ puede ser descompuesto en $ r $ eventos ordenados $ E_1, E_2,\\dots, E_k $ y que hay $ n_1 $ formas para que el evento $ E_1 $ ocurra, $ n_2 $ formas para que el evento $ E_2 $ ocurra,..., $ n_k $ formas para que el evento $ E_k $ ocurra. Entonces el número total de formas para que el evento $ E $ ocurra está dado por \n",
    "$$ \n",
    "  n_1n_2\\dots n_k.\n",
    "$$"
   ]
  },
  {
   "cell_type": "markdown",
   "metadata": {},
   "source": [
    "### **Ejemplos**\n",
    "1. Sea $ E=\\{ a,b,c,\\dots,x,y,z \\} $ el conjunto de las 26 letras del alfabeto español. Hallar el número de palabras de 5 letras que pueden formarse de $ E $ tal que la primera y la última letra sean vocales distintas y el resto tres consonantes diferentes. $\\hspace{0.5cm}$   Resp: 159600.\n",
    "2. ¿Cuántas placas de automóviles de tres letras y tres números se pueden formar?$\\hspace{0.5cm}$ Resp: 17576000\n",
    "3. Sea $ X=\\{ 1,2,3,\\dots,98,99,100 \\} $ y sea\n",
    "$$\n",
    "  S=\\{ (a,b,c)\\,/\\, a,b,c\\in X,\\; a<b\\;\\text{y}\\;a<c \\}. \n",
    "$$\n",
    "Determinar la cantidad de elementos tiene $ S $.$\\hspace{0.5cm}$ Resp: 328350."
   ]
  },
  {
   "cell_type": "markdown",
   "metadata": {},
   "source": [
    "### **Permutaciones**\n",
    "Sean $ A $ un conjunto de $ n $ elementos y $ B $ un subconjunto de $ A $ con $ r $ elementos. Definimos una $ r $-permutación de $ n $ objetos como\n",
    "$$\n",
    "  P_r^n=\\dfrac{n!}{(n-r)!}\n",
    "$$\n"
   ]
  },
  {
   "cell_type": "markdown",
   "metadata": {},
   "source": [
    "Vamos a calcular la permutación de la siguiente manera"
   ]
  },
  {
   "cell_type": "code",
   "execution_count": 269,
   "metadata": {},
   "outputs": [],
   "source": [
    "import math\n",
    "\n",
    "def permutacion(n, r):\n",
    "    return math.factorial(n) / math.factorial(n - r)"
   ]
  },
  {
   "cell_type": "markdown",
   "metadata": {},
   "source": [
    "### **Ejemplo**\n",
    "Hay 7 hombres y 3 mujeres en una fila de banco ¿De cuántas maneras se pueden ordenar en una fila tal que\n",
    "1. se pueden organizar sin condición? Resp: 3'628800\n",
    "2. hay un hombre específico que debe estar en la parte inicial de la fila? Resp: 362880 \n",
    "3. hay un hombre y una mujer que deben estar en la parte final de la fila? Resp: 80640\n",
    "4. las tres mujeres deden estar juntas en la fila? Resp: 241920\n"
   ]
  },
  {
   "cell_type": "code",
   "execution_count": 273,
   "metadata": {},
   "outputs": [],
   "source": [
    "#Solución\n",
    "#1.\n"
   ]
  },
  {
   "cell_type": "markdown",
   "metadata": {},
   "source": [
    "## **Combinaciones**\n",
    "Sean $ A $ un conjunto de $ n $ elementos y $ B $ un subconjunto de $ A $ con $ r $ elementos. Definimos una $ r $-combinación de $ n $ objetos como\n",
    "$$\n",
    "  C_r^n=\\dfrac{n!}{r!(n-r)!}\n",
    "$$"
   ]
  },
  {
   "cell_type": "markdown",
   "metadata": {},
   "source": [
    "Vamos a calcular la permutación de la siguiente manera"
   ]
  },
  {
   "cell_type": "code",
   "execution_count": 271,
   "metadata": {},
   "outputs": [],
   "source": [
    "import math\n",
    "\n",
    "def combinacion(n, r):\n",
    "    return math.factorial(n) / (math.factorial(r) * math.factorial(n - r))"
   ]
  },
  {
   "cell_type": "markdown",
   "metadata": {},
   "source": [
    "### **Ejemplo**\n",
    "¿De cuántas maneras se puede formar un comité de 5 integrantes de un grupo de 11 personas, el cual consiste en 4 profesores y 7 estudiantes si \n",
    "\n",
    "1. no hay restricción en la selección? Resp: 462.\n",
    "2. el comité debe incluir exactamente 2 profesores? Resp: 210\n",
    "3. el comité debe incluir por lo menos 3 profesores? Resp: 91\n",
    "4. un profesor particular y un estudiante particular no pueden estar en el mismo comité? Resp: 378"
   ]
  },
  {
   "cell_type": "markdown",
   "metadata": {},
   "source": [
    "### **Probabilidad de un evento**\n",
    "Si un experimento puede dar como resultado cualquiera de $N$ diferentes resultados que tienen las mismas probabilidades de ocurrir, y si exactamente $n$ de estos resultados corresponden al evento $A$, entonces la probabilidad del evento $A$ es\n",
    "$$\n",
    "  P(A)=\\dfrac{n}{N}\n",
    "$$"
   ]
  },
  {
   "cell_type": "markdown",
   "metadata": {},
   "source": [
    "### **Ejemplo**\n",
    "Hay 7 hombres y 3 mujeres en una fila de un banco. Calcular la probabilidad que\n",
    "\n",
    "a. halla un hombre en la parte inicial de la fila.\n",
    "\n",
    "b. un hombre y una mujer deben estar en la parte final de la fila.\n",
    "\n",
    "c. las tres mujeres deben estar juntas en la fila."
   ]
  },
  {
   "cell_type": "markdown",
   "metadata": {},
   "source": [
    "### **Ejercicios**\n",
    "1. Las probabilidades son dos a uno de que, cuando A y B juegan tenis, A gane. Suponga que A y B juegan dos partidos. ¿Cuál es la probabilidad de que A gane al menos un partido?\n",
    "\n",
    "2. Se carga un dado de forma que exista el doble de probabilidades de que salga un número par que uno impar. Si $E$ es el evento de que ocurra un número menor que 4 en un sólo lanzamiento del dado, calcule $P(E)$. Resp: 4/9.\n",
    "\n",
    "3. Continuando con el ejemplo anterior, sea $A$ el evento de que resulte un número par y sea $B$ el evento de que resulte un número divisible entre 3. Calcule $P(A\\cup B)$ y $P(A\\cap B)$. Resp: 7/9 y 2/9.\n",
    "4. A una clase de estadística asisten 25 estudiantes de ingeniería industrial, 10 de administración, 10 de ingeniería eléctrica y 8 de ingeniería civil. Si el profesor elige al azar a un estudiante para que conteste una pregunta, ¿qué probabilidades hay de que el elegido sea \n",
    "\n",
    "     a. estudiante de ingeniería industrial, \n",
    "\n",
    "     b. estudiante de ingeniería civil o estudiante de ingeniería eléctrica?\n",
    "\n",
    "    Resp: a) 25/53, b) 18/53.\n",
    "\n",
    "5. En una mano de póquer que consta de 5 cartas encuentre la probabilidad de tener 2 ases y 3 jotas. Resp: 0.9x$10^{-5}$.\n",
    "\n",
    "6. Considere un experimento que consiste en registrar el cumpleaños para cada una de 20 personas seleccionadas al azar. Si no se presta atención a los años bisiestos y se supone que hay sólo 365 cumpleaños distintos posibles, encuentre el número de puntos del espacio muestral $S$ para este experimento. Si suponemos que cada uno de los posibles conjuntos de cumpleaños es igualmente probable, ¿cuál es la probabilidad de que cada persona de las 20 tenga un cumpleaños diferente?, ¿Cuál es la probabilidad de que al menos un par de personas comparta cumpleaños? Resp. 0.5886 y 0.4114.\n",
    "\n",
    "7. Una mona ha de demostrar que reconoce los colores al lanzar al aire una bola roja, una negra y una blanca en cajas de los mismos colores respectivamente, una bola por caja. Si la mona no ha aprendido los colores y simplemente lanza una bola en una caja al azar, encuentre la probabilidad de que no haya coincidencias en los colores."
   ]
  },
  {
   "cell_type": "markdown",
   "metadata": {},
   "source": [
    "### **Probabilidad condicional**\n",
    "**Descripción Preliminar**\n",
    "\n",
    "Muchas veces se obtiene información parcial acerca de los eventos aleatorios antes de conocer el resultado final o información apriori. Considerando esta información, se puede cambiar la estructura del espacio muestral. Supongamos que al medir la probabilidad de ocurrencia de un evento se tiene la información que el evento $A$ ya sucedio, para $n$ veces que se repite el evento, tenemos la siguiente expresión:\n",
    "\n",
    "$$P(B\\vert A) = \\frac{n(A \\cap B)}{n(A)} = \\frac{\\frac{n(A\\cap B)}{n}}{\\frac{n(A)}{n}}$$\n",
    "\n",
    "*Por ejemplo*, se lanza dos dados:\n",
    "\n",
    "$$\\Omega = \\lbrace (1,1), (1,2), \\ldots, (6,6)\\rbrace$$\n",
    "\n",
    "Como el número de lanzamientos posibles es $n(\\Omega) = 36$, Si $A = $ Evento que la suma sea $7$ sin información apriori:\n",
    "\n",
    "$$\\mathbb{P}(A) = \\frac{6}{36} = \\frac{1}{6}$$\n",
    "\n",
    "Lo anterior se obtiene si se realiza el siguiente análisis:\n",
    "\n",
    "$$1+6 = 7$$\n",
    "$$6+1 = 7$$\n",
    "$$3+4 = 7$$\n",
    "$$4+3 = 7$$\n",
    "$$5+2 = 7$$\n",
    "$$2+5 = 7$$\n",
    "\n",
    "Obseerven que hay $6$ eventos que suman igual a $7$. \n",
    "\n",
    "Ahora supongamos que hay un evento $B$ que dice que sale un $3$ en uno de los dos dados. Inicialmente, se tiene:\n",
    "\n",
    "$$\\Omega = \\lbrace (3,1), (3,2), (3,3), (3,4), (3,5), (3,6), (1,3), (2,3), (3,3), (4,3), (5,3), (6,3) \\rbrace$$\n",
    "\n",
    "En este caso, $n(\\Omega) = 12$\n",
    "\n",
    "Como solo hay dos eventos que al salir un $3$ en uno de los dados, entonces se considera $(3,4)$ y $(4,3)$, y por consiguiente, son $2$ eventos que se presentan. Por consiguiente:\n",
    "\n",
    "$$\\mathbb{P}(A\\vert B) = \\frac{n(A\\cap B)}{n(B)} = \\frac{2}{12} = \\frac{1}{6}$$\n",
    "\n",
    "Para este caso, $n(B) = n{(\\Omega)}$ y $n(A \\cap B) = 2$. En este cálculo, $\\mathbb{P}(A\\vert B)$ significa que es la probabilidad de un evento $A$ dado que ocurra un evento $B$.\n",
    "\n",
    "A partir de estos puntos preliminares, se define el concepto de probabilidad condicional\n",
    "\n",
    "\n",
    "**Definición**\n",
    "\n",
    "La **probabilidad condicional** de un evento $A$, dado que un evento $B$ ha ocurrido, es igual a\n",
    "$$\n",
    "\\mathbb{P}(A\\vert B) = \\frac{\\mathbb{P}(A \\cap B)}{\\mathbb{P}(B)}\n",
    "$$\n",
    "\n",
    "o en caso contrario:\n",
    "\n",
    "$$\\mathbb{P}(B\\vert A) = \\frac{\\mathbb{P}(A \\cap B)}{\\mathbb{P}(A)}$$\n",
    "\n",
    "donde $\\mathbb{P}(B) > 0$ y $\\mathbb{P}(A) > 0$. \n"
   ]
  },
  {
   "cell_type": "markdown",
   "metadata": {},
   "source": [
    "### **Ejemplo**\n",
    "1. Suponga que un dado balanceado se tira una vez. Use probabilidad condicional para hallar la probabilidad de un 1, dado que se obtuvo un número impar.\n",
    "\n",
    "2. La probabilidad de que un vuelo programado normalmente salga a tiempo es $P(D)=0.83$, la probabilidad de que llegue a tiempo es $P(A)=0.82$ y la probabilidad de que salga y llegue a tiempo es $P(D\\cap A) = 0.78$. \n",
    "\n",
    "    Calcule la probabilidad de que un avión\t\n",
    "\n",
    "    a. llegue a tiempo, dado que salió a tiempo; \n",
    "\n",
    "    b. salió a tiempo, dado que llegó a tiempo; \n",
    "    \n",
    "    c. llegó a tiempo, dado que no salió a tiempo.\n",
    "    \n",
    "     Resp. a) 0.94, b) 0.95 y c) 0.24."
   ]
  },
  {
   "cell_type": "markdown",
   "metadata": {},
   "source": [
    "### **Ejercicios**\n",
    "1. Considere un proceso industrial en el ramo textil, en el que se producen listones de una tela específica. Los listones pueden resultar con defectos en dos de sus características: la longitud y la textura. En el segundo caso el proceso de identificación es muy complicado. A partir de información histórica del proceso se sabe que 10\\% de los listones no pasan la prueba de longitud, que 5\\% no pasan la prueba de textura y que sólo 0.8\\% no pasan ninguna de las dos pruebas. Si en el proceso se elige un listón al azar y una medición rápida identifica que no pasa la prueba de longitud, ¿cuál es la probabilidad de que la textura esté defectuosa? R: 0.08\n",
    "\n",
    "2. Un grupo de estudiantes de probabilidad avanzada se compone de 10 alumnos de primer año, 30 del último año y 10 graduados. Las calificaciones finales muestran que 3 estudiantes de primer año, 10 del último año y 5 de los graduados obtuvieron 10 en el curso. Si se elige un estudiante al azar de este grupo y se descubre que es uno de los que obtuvieron 10 de calificación, ¿cuál es la probabilidad de que sea un estudiante de último año? \n",
    "\n",
    "    Resp. 5/9."
   ]
  },
  {
   "cell_type": "markdown",
   "metadata": {},
   "source": [
    "La probabilidad condicional cumple con las siguientes condiciones:\n",
    "\n",
    "1.   $\\mathbb{P}(A\\vert A) = 1$\n",
    "2.   $\\mathbb{P}(A^c\\vert B) = 1 - \\mathbb{P}(A\\vert B)$, siendo $A^c$ el complemento.\n",
    "3.   $\\mathbb{P}(A \\cap B \\vert C) = \\mathbb{P}(A\\vert B\\cap C)\\cdot \\mathbb{P}(B \\vert C)$\n",
    "4.   $\\mathbb{P}(A \\cap B \\cap C) = \\mathbb{P}(C \\vert A \\cap B)\\cdot \\mathbb{P}(A \\cap B)$\n",
    "\n",
    "Veamos un ejemplo práctico de la cuarta propiedad de la probabilidad condicional"
   ]
  },
  {
   "cell_type": "markdown",
   "metadata": {},
   "source": [
    "### **Ejemplo**\n",
    "Se tiene una caja con 12 bolas, de los cuales 3 son de color negro y 9 son de color azul. Se seleccionan 3 bolas de forma aleatoria sin repetir de nuevo una nueva selección. ¿Cuál es la probabilidad que la bola sea azul, la segunda bola sea también azul y la tercera bola sea negra?"
   ]
  },
  {
   "cell_type": "code",
   "execution_count": 1,
   "metadata": {},
   "outputs": [
    {
     "name": "stdout",
     "output_type": "stream",
     "text": [
      "Probabilidad del intento 1 =  0.75\n",
      "Probabilidad del intento 2 =  0.7272727272727273\n",
      "Probabilidad del intento 3 =  0.3\n"
     ]
    }
   ],
   "source": [
    "import numpy as np\n",
    "\n",
    "# Evento A es una bola azul\n",
    "# Evento B es una bola azul\n",
    "# Evento C es una bola negra\n",
    "\n",
    "N = 12 # 12 Bolas en total\n",
    "N_A = 9 # 9 bolas azul\n",
    "N_N = 3 # 3 bolas negras\n",
    "P_A = N_A/N # Probabilidad que salga bola de color azul en el primer intento\n",
    "\n",
    "# Si se descarta una bola azul en el segundo intento entonces...\n",
    "\n",
    "P_B_cond_A = (N_A - 1)/(N - 1)\n",
    "\n",
    "# Si se descarta dos bolas para salga azul, entonces...\n",
    "\n",
    "P_C_cond_A_cap_B = N_N/(N - 2)\n",
    "\n",
    "print(\"Probabilidad del intento 1 = \", P_A)\n",
    "print(\"Probabilidad del intento 2 = \", P_B_cond_A)\n",
    "print(\"Probabilidad del intento 3 = \", P_C_cond_A_cap_B)"
   ]
  },
  {
   "cell_type": "markdown",
   "metadata": {},
   "source": [
    "Como $\\mathbb{P}(B\\vert A) = \\frac{\\mathbb{P}(A \\cap B)}{\\mathbb{P}(A)}$, entonces se puede decir que:\n",
    "\n",
    "$$\\mathbb{P}(A \\cap B) = \\mathbb{P}(B\\vert A)\\cdot \\mathbb{P}(A)$$\n",
    "\n",
    "Por consiguiente:\n",
    "\n",
    "$$\\mathbb{P}(A \\cap B \\cap C) = \\mathbb{P}(C \\vert A \\cap B)\\cdot \\mathbb{P}(B\\vert A)\\cdot \\mathbb{P}(A)$$"
   ]
  },
  {
   "cell_type": "code",
   "execution_count": 2,
   "metadata": {},
   "outputs": [
    {
     "name": "stdout",
     "output_type": "stream",
     "text": [
      "La probabilidad que la bola sea azul en el intento 1, azul en el intento 2 y negra en el intento 3 es = 0.164\n"
     ]
    }
   ],
   "source": [
    "P_A_cap_B_cap_C = P_C_cond_A_cap_B * P_B_cond_A * P_A\n",
    "print(\"La probabilidad que la bola sea azul en el intento 1, azul en el intento 2 y negra en el intento 3 es = {:.3f}\".format(P_A_cap_B_cap_C))"
   ]
  },
  {
   "cell_type": "markdown",
   "metadata": {},
   "source": [
    "### **Eventos independientes**\n",
    "\n",
    "**Definición**\n",
    "Se dice que dos eventos $ A $ y $ B $ son independientes si se cumple cualquiera de los siguientes casos:\n",
    "\t\t\n",
    "$$P(A|B)=P(A),\\quad P(B|A)=P(B)$$\n",
    "$$P(A\\cap B)=P(A)P(B)$$"
   ]
  },
  {
   "cell_type": "markdown",
   "metadata": {},
   "source": [
    "Veamos un ejemplo práctico"
   ]
  },
  {
   "cell_type": "code",
   "execution_count": null,
   "metadata": {},
   "outputs": [],
   "source": [
    "# A = evento que la moneda salga cara\n",
    "# B = evento que la moneda salga sello.\n",
    "\n",
    "P_A = 0.5 # Probabilidad que salga cara.\n",
    "P_B = 0.5 # Probabilidad que salga sello.\n",
    "\n",
    "P_A_cap_B = P_A * P_B\n",
    "\n",
    "print(\"Probabilidad que A y B sean independientes es = {:.3f}\".format(P_A_cap_B))"
   ]
  },
  {
   "cell_type": "markdown",
   "metadata": {},
   "source": [
    "Como la probabilidad es de $0.25$, y como se busca que $\\mathbb{P}(A \\cap B) = 0$, entonces $A$ y $B$ no son independientes entre sí."
   ]
  },
  {
   "cell_type": "code",
   "execution_count": null,
   "metadata": {},
   "outputs": [],
   "source": []
  }
 ],
 "metadata": {
  "interpreter": {
   "hash": "1448b48b023bcc9c3d4a79e814720a10ca6d4244f75e0f7ce4af58f96ba2b7d3"
  },
  "kernelspec": {
   "display_name": "Python 3.8.8 64-bit ('base': conda)",
   "language": "python",
   "name": "python3"
  },
  "language_info": {
   "codemirror_mode": {
    "name": "ipython",
    "version": 3
   },
   "file_extension": ".py",
   "mimetype": "text/x-python",
   "name": "python",
   "nbconvert_exporter": "python",
   "pygments_lexer": "ipython3",
   "version": "3.8.8"
  },
  "orig_nbformat": 4
 },
 "nbformat": 4,
 "nbformat_minor": 2
}
