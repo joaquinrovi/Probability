{
 "cells": [
  {
   "cell_type": "markdown",
   "metadata": {},
   "source": [
    "<a href=\"https://colab.research.google.com/github/alfonsocude/Symbolic_calculus/blob/main/Integral_Calculus.ipynb\" target=\"_parent\"><img src=\"https://colab.research.google.com/assets/colab-badge.svg\" alt=\"Open In Colab\"/></a>\n",
    "\n",
    "\n",
    "**Recuerda que una vez abierto, Da clic en \"Copiar en Drive\", de lo contrario no podras almancenar tu progreso**\n",
    "\n",
    "Nota: no olvide ir ejecutando las celdas de código de arriba hacia abajo para que no tenga errores de importación de librerías o por falta de definición de variables."
   ]
  },
  {
   "cell_type": "code",
   "execution_count": null,
   "metadata": {},
   "outputs": [],
   "source": [
    "!wget --no-cache -O init.py -q https://raw.githubusercontent.com/alfonsocude/Probability/master/init.py\n",
    "import init; init.init(force_download=False); \n",
    "from IPython.display import Image"
   ]
  },
  {
   "cell_type": "markdown",
   "metadata": {},
   "source": [
    "# **Estadística**\n",
    "\n",
    "La **estadística** se define como el arte y la ciencia de reunir datos, analizarlos,\n",
    "presentarlos e interpretarlos.\n",
    "\n",
    "Las aplicaciones de la estadística son múltiples en diferentes compos.\n",
    "* Contaduria\n",
    "* Marketing\n",
    "* Finanzas\n",
    "* Producción\n",
    "* Economía\n",
    "\n",
    "### **Datos**\n",
    "Datos son hechos/informaciones y cifras que se recogen, analizan y resumen para su presenta-\n",
    "ción e interpretación. A todos los datos reunidos para un determinado estudio se les llama con-\n",
    "junto de datos para el estudio.\n",
    "\n",
    "## **Elementos, variables y observaciones**\n",
    "**Elementos** son las entidades de las que se obtienen los datos. \n",
    "Una **variable** es una característica de los elementos que es de interés.\n",
    "Los valores encontrados para cada variable en cada uno de los elementos constituyen los\n",
    "**datos**. Al conjunto de mediciones obtenidas para un determinado elemento se le llama **observación**.\n",
    "\n",
    "### **Datos cualitativos y cuantitativos**\n",
    "Los datos también son clasificados en **cualitativos** y **cuantitativos**. Los **datos cualitativos** comprenden etiquetas o nombres que se usan para identificar un atributo de cada elemento. Los **datos\n",
    "cualitativos** emplean la escala nominal o la ordinal y pueden ser numéricos o no. Los datos cuantitativos requieren valores numéricos que indiquen cuánto o cuántos. Los datos cuantitativos se\n",
    "obtienen usando las escalas de medición de intervalo o de razón."
   ]
  },
  {
   "cell_type": "markdown",
   "metadata": {},
   "source": [
    "# **Estadística Descriptiva**\n",
    "La **estadística descriptiva** se puede definir como resúmenes de datos, que pueden ser tabulares, gráficos o numéricos.\n",
    "\n",
    "En muchas situaciones se requiere información acerca de grupos grandes de elementos (individuos, empresas, votantes, hogares, productos, clientes, etc.). Pero, debido al tiempo, costo y a otras consideraciones, sólo es posible recolectar los datos de una pequeña parte de este grupo. Al grupo grande de elementos en un determinado estudio se le llama **población** y al grupo pequeño **muestra**. En términos formales se emplean las definiciones siguientes.\n",
    "\n",
    "### **Población**\n",
    "La población es el conjunto de todos los elementos de interés en un estudio determinado.\n",
    "\n",
    "### **Muestra**\n",
    "\n",
    "La muestra es un subconjunto de la población.\n",
    "\n",
    "Al proceso de realizar un estudio para recolectar datos de toda una población se le llama **censo**. Al proceso de efectuar un estudio para recolectar datos de una muestra se le llama **encuesta muestral**. Una de las principales contribuciones de la estadística es emplear datos de una muestra para hacer estimaciones y probar hipótesis acerca de las características de una población mediante un proceso al que se le conoce como **inferencia estadística**.\n"
   ]
  },
  {
   "cell_type": "code",
   "execution_count": 1,
   "metadata": {},
   "outputs": [
    {
     "data": {
      "text/plain": [
       "array(['Coke Classic', 'Diet Coke', 'Pepsi', 'Diet Coke', 'Coke Classic',\n",
       "       'Coke Classic', 'Dr. Pepper', 'Diet Coke', 'Pepsi', 'Pepsi',\n",
       "       'Coke Classic', 'Dr. Pepper', 'Sprite', 'Coke Classic',\n",
       "       'Diet Coke', 'Coke Classic', 'Coke Classic', 'Sprite',\n",
       "       'Coke Classic', 'Diet Coke', 'Coke Classic', 'Diet Coke',\n",
       "       'Coke Classic', 'Sprite', 'Pepsi', 'Coke Classic', 'Coke Classic',\n",
       "       'Coke Classic', 'Pepsi', 'Coke Classic', 'Sprite', 'Dr. Pepper',\n",
       "       'Pepsi', 'Diet Coke', 'Pepsi', 'Coke Classic', 'Coke Classic',\n",
       "       'Coke Classic', 'Pepsi', 'Dr. Pepper', 'Coke Classic', 'Diet Coke',\n",
       "       'Pepsi', 'Pepsi', 'Pepsi', 'Pepsi', 'Coke Classic', 'Dr. Pepper',\n",
       "       'Pepsi', 'Sprite'], dtype=object)"
      ]
     },
     "execution_count": 1,
     "metadata": {},
     "output_type": "execute_result"
    }
   ],
   "source": [
    "import numpy as np\n",
    "import pandas as pd\n",
    "\n",
    "ventas = pd.read_excel('local/data/Ventas_gaseosas.xlsx')\n",
    "np.array(ventas['Ventas'])"
   ]
  },
  {
   "cell_type": "code",
   "execution_count": 28,
   "metadata": {},
   "outputs": [],
   "source": [
    "marcas_gaseosas = ['Coke Classic', 'Diet Coke', 'Pepsi', 'Diet Coke', 'Coke Classic',\n",
    "       'Coke Classic', 'Dr. Pepper', 'Diet Coke', 'Pepsi', 'Pepsi',\n",
    "       'Coke Classic', 'Dr. Pepper', 'Sprite', 'Coke Classic',\n",
    "       'Diet Coke', 'Coke Classic', 'Coke Classic', 'Sprite',\n",
    "       'Coke Classic', 'Diet Coke', 'Coke Classic', 'Diet Coke',\n",
    "       'Coke Classic', 'Sprite', 'Pepsi', 'Coke Classic', 'Coke Classic',\n",
    "       'Coke Classic', 'Pepsi', 'Coke Classic', 'Sprite', 'Dr. Pepper',\n",
    "       'Pepsi', 'Diet Coke', 'Pepsi', 'Coke Classic', 'Coke Classic',\n",
    "       'Coke Classic', 'Pepsi', 'Dr. Pepper', 'Coke Classic', 'Diet Coke',\n",
    "       'Pepsi', 'Pepsi', 'Pepsi', 'Pepsi', 'Coke Classic', 'Dr. Pepper',\n",
    "       'Pepsi', 'Sprite']"
   ]
  },
  {
   "cell_type": "code",
   "execution_count": 29,
   "metadata": {},
   "outputs": [
    {
     "data": {
      "text/plain": [
       "Counter({'Coke Classic': 19,\n",
       "         'Diet Coke': 8,\n",
       "         'Pepsi': 13,\n",
       "         'Dr. Pepper': 5,\n",
       "         'Sprite': 5})"
      ]
     },
     "execution_count": 29,
     "metadata": {},
     "output_type": "execute_result"
    }
   ],
   "source": [
    "from collections import Counter\n",
    "\n",
    "frec = Counter(marcas_gaseosas)\n",
    "frec"
   ]
  },
  {
   "cell_type": "code",
   "execution_count": 5,
   "metadata": {},
   "outputs": [
    {
     "data": {
      "text/html": [
       "<div>\n",
       "<style scoped>\n",
       "    .dataframe tbody tr th:only-of-type {\n",
       "        vertical-align: middle;\n",
       "    }\n",
       "\n",
       "    .dataframe tbody tr th {\n",
       "        vertical-align: top;\n",
       "    }\n",
       "\n",
       "    .dataframe thead th {\n",
       "        text-align: right;\n",
       "    }\n",
       "</style>\n",
       "<table border=\"1\" class=\"dataframe\">\n",
       "  <thead>\n",
       "    <tr style=\"text-align: right;\">\n",
       "      <th></th>\n",
       "      <th>Unnamed: 0</th>\n",
       "      <th>Age</th>\n",
       "      <th>Sex</th>\n",
       "      <th>Job</th>\n",
       "      <th>Housing</th>\n",
       "      <th>Saving accounts</th>\n",
       "      <th>Checking account</th>\n",
       "      <th>Credit amount</th>\n",
       "      <th>Duration</th>\n",
       "      <th>Purpose</th>\n",
       "      <th>Risk</th>\n",
       "    </tr>\n",
       "  </thead>\n",
       "  <tbody>\n",
       "    <tr>\n",
       "      <th>0</th>\n",
       "      <td>0</td>\n",
       "      <td>67</td>\n",
       "      <td>male</td>\n",
       "      <td>2</td>\n",
       "      <td>own</td>\n",
       "      <td>NaN</td>\n",
       "      <td>little</td>\n",
       "      <td>1169</td>\n",
       "      <td>6</td>\n",
       "      <td>radio/TV</td>\n",
       "      <td>good</td>\n",
       "    </tr>\n",
       "    <tr>\n",
       "      <th>1</th>\n",
       "      <td>1</td>\n",
       "      <td>22</td>\n",
       "      <td>female</td>\n",
       "      <td>2</td>\n",
       "      <td>own</td>\n",
       "      <td>little</td>\n",
       "      <td>moderate</td>\n",
       "      <td>5951</td>\n",
       "      <td>48</td>\n",
       "      <td>radio/TV</td>\n",
       "      <td>bad</td>\n",
       "    </tr>\n",
       "    <tr>\n",
       "      <th>2</th>\n",
       "      <td>2</td>\n",
       "      <td>49</td>\n",
       "      <td>male</td>\n",
       "      <td>1</td>\n",
       "      <td>own</td>\n",
       "      <td>little</td>\n",
       "      <td>NaN</td>\n",
       "      <td>2096</td>\n",
       "      <td>12</td>\n",
       "      <td>education</td>\n",
       "      <td>good</td>\n",
       "    </tr>\n",
       "    <tr>\n",
       "      <th>3</th>\n",
       "      <td>3</td>\n",
       "      <td>45</td>\n",
       "      <td>male</td>\n",
       "      <td>2</td>\n",
       "      <td>free</td>\n",
       "      <td>little</td>\n",
       "      <td>little</td>\n",
       "      <td>7882</td>\n",
       "      <td>42</td>\n",
       "      <td>furniture/equipment</td>\n",
       "      <td>good</td>\n",
       "    </tr>\n",
       "    <tr>\n",
       "      <th>4</th>\n",
       "      <td>4</td>\n",
       "      <td>53</td>\n",
       "      <td>male</td>\n",
       "      <td>2</td>\n",
       "      <td>free</td>\n",
       "      <td>little</td>\n",
       "      <td>little</td>\n",
       "      <td>4870</td>\n",
       "      <td>24</td>\n",
       "      <td>car</td>\n",
       "      <td>bad</td>\n",
       "    </tr>\n",
       "  </tbody>\n",
       "</table>\n",
       "</div>"
      ],
      "text/plain": [
       "   Unnamed: 0  Age     Sex  Job Housing Saving accounts Checking account  \\\n",
       "0           0   67    male    2     own             NaN           little   \n",
       "1           1   22  female    2     own          little         moderate   \n",
       "2           2   49    male    1     own          little              NaN   \n",
       "3           3   45    male    2    free          little           little   \n",
       "4           4   53    male    2    free          little           little   \n",
       "\n",
       "   Credit amount  Duration              Purpose  Risk  \n",
       "0           1169         6             radio/TV  good  \n",
       "1           5951        48             radio/TV   bad  \n",
       "2           2096        12            education  good  \n",
       "3           7882        42  furniture/equipment  good  \n",
       "4           4870        24                  car   bad  "
      ]
     },
     "execution_count": 5,
     "metadata": {},
     "output_type": "execute_result"
    }
   ],
   "source": [
    "banco = pd.read_csv('local/data/german_credit_data.csv')\n",
    "banco.head()"
   ]
  },
  {
   "cell_type": "code",
   "execution_count": 6,
   "metadata": {},
   "outputs": [
    {
     "data": {
      "text/plain": [
       "array([ 1169,  5951,  2096,  7882,  4870,  9055,  2835,  6948,  3059,\n",
       "        5234,  1295,  4308,  1567,  1199,  1403,  1282,  2424,  8072,\n",
       "       12579,  3430,  2134,  2647,  2241,  1804,  2069,  1374,   426,\n",
       "         409,  2415,  6836,  1913,  4020,  5866,  1264,  1474,  4746,\n",
       "        6110,  2100,  1225,   458,  2333,  1158,  6204,  6187,  6143,\n",
       "        1393,  2299,  1352,  7228,  2073,  2333,  5965,  1262,  3378,\n",
       "        2225,   783,  6468,  9566,  1961,  6229,  1391,  1537,  1953,\n",
       "       14421,  3181,  5190,  2171,  1007,  1819,  2394,  8133,   730,\n",
       "        1164,  5954,  1977,  1526,  3965,  4771,  9436,  3832,  5943,\n",
       "        1213,  1568,  1755,  2315,  1412,  1295, 12612,  2249,  1108,\n",
       "         618,  1409,   797,  3617,  1318, 15945,  2012,  2622,  2337,\n",
       "        7057,  1469,  2323,   932,  1919,  2445, 11938,  6458,  6078,\n",
       "        7721,  1410,  1449,   392,  6260,  7855,  1680,  3578,  7174,\n",
       "        2132,  4281,  2366,  1835,  3868,  1768,   781,  1924,  2121,\n",
       "         701,   639,  1860,  3499,  8487,  6887,  2708,  1984, 10144,\n",
       "        1240,  8613,   766,  2728,  1881,   709,  4795,  3416,  2462,\n",
       "        2288,  3566,   860,   682,  5371,  1582,  1346,  1924,  5848,\n",
       "        7758,  6967,  1282,  1288,   339,  3512,  1898,  2872,  1055,\n",
       "        1262,  7308,   909,  2978,  1131,  1577,  3972,  1935,   950,\n",
       "         763,  2064,  1414,  3414,  7485,  2577,   338,  1963,   571,\n",
       "        9572,  4455,  1647,  3777,   884,  1360,  5129,  1175,   674,\n",
       "        3244,  4591,  3844,  3915,  2108,  3031,  1501,  1382,   951,\n",
       "        2760,  4297,   936,  1168,  5117,   902,  1495, 10623,  1935,\n",
       "        1424,  6568,  1413,  3074,  3835,  5293,  1908,  3342,   932,\n",
       "        3104,  3913,  3021,  1364,   625,  1200,   707,  2978,  4657,\n",
       "        2613, 10961,  7865,  1478,  3149,  4210,  2507,  2141,   866,\n",
       "        1544,  1823, 14555,  2767,  1291,  2522,   915,  1595,  4605,\n",
       "        1185,  3447,  1258,   717,  1204,  1925,   433,   666,  2251,\n",
       "        2150,  4151,  2030,  7418,  2684,  2149,  3812,  1154,  1657,\n",
       "        1603,  5302,  2748,  1231,   802,  6304,  1533,  8978,   999,\n",
       "        2662,  1402, 12169,  3060, 11998,  2697,  2404,  1262,  4611,\n",
       "        1901,  3368,  1574,  1445,  1520,  3878, 10722,  4788,  7582,\n",
       "        1092,  1024,  1076,  9398,  6419,  4796,  7629,  9960,  4675,\n",
       "        1287,  2515,  2745,   672,  3804,  1344,  1038, 10127,  1543,\n",
       "        4811,   727,  1237,   276,  5381,  5511,  3749,   685,  1494,\n",
       "        2746,   708,  4351,   701,  3643,  4249,  1938,  2910,  2659,\n",
       "        1028,  3398,  5801,  1525,  4473,  1068,  6615,  1864,  7408,\n",
       "       11590,  4110,  3384,  2101,  1275,  4169,  1521,  5743,  3599,\n",
       "        3213,  4439,  3949,  1459,   882,  3758,  1743,  1136,  1236,\n",
       "         959,  3229,  6199,   727,  1246,  2331,  4463,   776,  2406,\n",
       "        1239,  3399,  2247,  1766,  2473,  1542,  3850,  3650,  3446,\n",
       "        3001,  3079,  6070,  2146, 13756, 14782,  7685,  2320,   846,\n",
       "       14318,   362,  2212, 12976,  1283,  1330,  4272,  2238,  1126,\n",
       "        7374,  2326,  1449,  1820,   983,  3249,  1957,  2406, 11760,\n",
       "        2578,  2348,  1223,  1516,  1473,  1887,  8648,   802,  2899,\n",
       "        2039,  2197,  1053,  3235,   939,  1967,  7253,  2292,  1597,\n",
       "        1381,  5842,  2579,  8471,  2782,  1042,  3186,  2028,   958,\n",
       "        1591,  2762,  2779,  2743,  1149,  1313,  1190,  3448, 11328,\n",
       "        1872,  2058,  2136,  1484,   660,  1287,  3394,   609,  1884,\n",
       "        1620,  2629,   719,  5096,  1244,  1842,  2576,  1424,  1512,\n",
       "       11054,   518,  2759,  2670,  4817,  2679,  3905,  3386,   343,\n",
       "        4594,  3620,  1721,  3017,   754,  1950,  2924,  1659,  7238,\n",
       "        2764,  4679,  3092,   448,   654,  1238,  1245,  3114,  2569,\n",
       "        5152,  1037,  1478,  3573,  1201,  3622,   960,  1163,  1209,\n",
       "        3077,  3757,  1418,  3518,  1934,  8318,  1237,   368,  2122,\n",
       "        2996,  9034,  1585,  1301,  1323,  3123,  5493,  1126,  1216,\n",
       "        1207,  1309,  2360,  6850,  1413,  8588,   759,  4686,  2687,\n",
       "         585,  2255,   609,  1361,  7127,  1203,   700,  5507,  3190,\n",
       "        7119,  3488,  1113,  7966,  1532,  1503,  2302,   662,  2273,\n",
       "        2631,  1503,  1311,  3105,  2319,  1374,  3612,  7763,  3049,\n",
       "        1534,  2032,  6350,  2864,  1255,  1333,  2022,  1552,   626,\n",
       "        8858,   996,  1750,  6999,  1995,  1199,  1331,  2278,  5003,\n",
       "        3552,  1928,  2964,  1546,   683, 12389,  4712,  1553,  1372,\n",
       "        2578,  3979,  6758,  3234,  5954,  5433,   806,  1082,  2788,\n",
       "        2930,  1927,  2820,   937,  1056,  3124,  1388,  2384,  2133,\n",
       "        2039,  2799,  1289,  1217,  2246,   385,  1965,  1572,  2718,\n",
       "        1358,   931,  1442,  4241,  2775,  3863,  2329,   918,  1837,\n",
       "        3349,  1275,  2828,  4526,  2671,  2051,  1300,   741,  1240,\n",
       "        3357,  3632,  1808, 12204,  9157,  3676,  3441,   640,  3652,\n",
       "        1530,  3914,  1858,  2600,  1979,  2116,  1437,  4042,  3832,\n",
       "        3660,  1553,  1444,  1980,  1355,  1393,  1376, 15653,  1493,\n",
       "        4370,   750,  1308,  4623,  1851,  1880,  7980,  4583,  1386,\n",
       "         947,   684,  7476,  1922,  2303,  8086,  2346,  3973,   888,\n",
       "       10222,  4221,  6361,  1297,   900,  2241,  1050,  1047,  6314,\n",
       "        3496,  3609,  4843,  3017,  4139,  5742, 10366,  2080,  2580,\n",
       "        4530,  5150,  5595,  2384,  1453,  1538,  2279,  1478,  5103,\n",
       "        9857,  6527,  1347,  2862,  2753,  3651,   975,  2631,  2896,\n",
       "        4716,  2284,  1236,  1103,   926,  1800,  1905,  1123,  6331,\n",
       "        1377,  2503,  2528,  5324,  6560,  2969,  1206,  2118,   629,\n",
       "        1198,  2476,  1138, 14027,  7596,  3077,  1505,  3148,  6148,\n",
       "        1337,   433,  1228,   790,  2570,   250,  1316,  1882,  6416,\n",
       "        1275,  6403,  1987,   760,  2603,  3380,  3990, 11560,  4380,\n",
       "        6761,  4280,  2325,  1048,  3160,  2483, 14179,  1797,  2511,\n",
       "        1274,  5248,  3029,   428,   976,   841,  5771,  1555,  1285,\n",
       "        1299,  1271,  1393,   691,  5045,  2124,  2214, 12680,  2463,\n",
       "        1155,  3108,  2901,  3617,  1655,  2812,  8065,  3275,  2223,\n",
       "        1480,  1371,  3535,  3509,  5711,  3872,  4933,  1940,  1410,\n",
       "         836,  6468,  1941,  2675,  2751,  6224,  5998,  1188,  6313,\n",
       "        1221,  2892,  3062,  2301,  7511,  1258,   717,  1549,  1597,\n",
       "        1795,  4272,   976,  7472,  9271,   590,   930,  9283,  1778,\n",
       "         907,   484,  9629,  3051,  3931,  7432,  1338,  1554, 15857,\n",
       "        1345,  1101,  3016,  2712,   731,  3780,  1602,  3966,  4165,\n",
       "        8335,  6681,  2375,  1216, 11816,  5084,  2327,  1082,   886,\n",
       "         601,  2957,  2611,  5179,  2993,  1943,  1559,  3422,  3976,\n",
       "        6761,  1249,  1364,   709,  2235,  4042,  1471,  1442, 10875,\n",
       "        1474,   894,  3343,  3959,  3577,  5804,  2169,  2439,  4526,\n",
       "        2210,  2221,  2389,  3331,  7409,   652,  7678,  1343,  1382,\n",
       "         874,  3590,  1322,  1940,  3595,  1422,  6742,  7814,  9277,\n",
       "        2181,  1098,  4057,   795,  2825, 15672,  6614,  7824,  2442,\n",
       "        1829,  2171,  5800,  1169,  8947,  2606,  1592,  2186,  4153,\n",
       "        2625,  3485, 10477,  1386,  1278,  1107,  3763,  3711,  3594,\n",
       "        3195,  4454,  4736,  2991,  2142,  3161, 18424,  2848, 14896,\n",
       "        2359,  3345,  1817, 12749,  1366,  2002,  6872,   697,  1049,\n",
       "       10297,  1867,  1344,  1747,  1670,  1224,   522,  1498,  1919,\n",
       "         745,  2063,  6288,  6842,  3527,  1546,   929,  1455,  1845,\n",
       "        8358,  3349,  2859,  1533,  3621,  3590,  2145,  4113, 10974,\n",
       "        1893,  1231,  3656,  1154,  4006,  3069,  1740,  2353,  3556,\n",
       "        2397,   454,  1715,  2520,  3568,  7166,  3939,  1514,  7393,\n",
       "        1193,  7297,  2831,  1258,   753,  2427,  2538,  1264,  8386,\n",
       "        4844,  2923,  8229,  2028,  1433,  6289,  1409,  6579,  1743,\n",
       "        3565,  1569,  1936,  3959,  2390,  1736,  3857,   804,  1845,\n",
       "        4576])"
      ]
     },
     "execution_count": 6,
     "metadata": {},
     "output_type": "execute_result"
    }
   ],
   "source": [
    "credito = np.array(banco['Credit amount'])\n",
    "credito"
   ]
  },
  {
   "cell_type": "code",
   "execution_count": null,
   "metadata": {},
   "outputs": [],
   "source": [
    "genero = np.array(banco['Sex'])"
   ]
  },
  {
   "cell_type": "code",
   "execution_count": null,
   "metadata": {},
   "outputs": [
    {
     "data": {
      "text/plain": [
       "array(['radio/TV', 'radio/TV', 'education', 'furniture/equipment', 'car',\n",
       "       'education', 'furniture/equipment', 'car', 'radio/TV', 'car',\n",
       "       'car', 'business', 'radio/TV', 'car', 'car', 'radio/TV',\n",
       "       'radio/TV', 'business', 'car', 'radio/TV', 'car', 'radio/TV',\n",
       "       'car', 'car', 'furniture/equipment', 'furniture/equipment',\n",
       "       'radio/TV', 'radio/TV', 'radio/TV', 'business', 'business',\n",
       "       'furniture/equipment', 'car', 'business', 'furniture/equipment',\n",
       "       'radio/TV', 'education', 'radio/TV', 'domestic appliances',\n",
       "       'radio/TV', 'radio/TV', 'radio/TV', 'repairs', 'car', 'car', 'car',\n",
       "       'radio/TV', 'car', 'car', 'radio/TV', 'furniture/equipment', 'car',\n",
       "       'radio/TV', 'car', 'car', 'car', 'radio/TV', 'radio/TV', 'car',\n",
       "       'furniture/equipment', 'business', 'radio/TV', 'business',\n",
       "       'business', 'radio/TV', 'repairs', 'radio/TV', 'car', 'education',\n",
       "       'radio/TV', 'car', 'radio/TV', 'vacation/others', 'business',\n",
       "       'education', 'car', 'radio/TV', 'radio/TV', 'car',\n",
       "       'furniture/equipment', 'radio/TV', 'radio/TV', 'business',\n",
       "       'vacation/others', 'radio/TV', 'business', 'furniture/equipment',\n",
       "       'education', 'car', 'repairs', 'radio/TV', 'car', 'radio/TV',\n",
       "       'furniture/equipment', 'car', 'business', 'education', 'business',\n",
       "       'radio/TV', 'car', 'car', 'radio/TV', 'radio/TV',\n",
       "       'furniture/equipment', 'car', 'vacation/others', 'car', 'car',\n",
       "       'furniture/equipment', 'business', 'business', 'education', 'car',\n",
       "       'car', 'radio/TV', 'radio/TV', 'radio/TV', 'furniture/equipment',\n",
       "       'furniture/equipment', 'car', 'radio/TV', 'car',\n",
       "       'furniture/equipment', 'car', 'furniture/equipment', 'car',\n",
       "       'radio/TV', 'repairs', 'car', 'car', 'car', 'education',\n",
       "       'furniture/equipment', 'furniture/equipment', 'radio/TV',\n",
       "       'radio/TV', 'car', 'radio/TV', 'radio/TV', 'radio/TV', 'car',\n",
       "       'radio/TV', 'radio/TV', 'furniture/equipment',\n",
       "       'furniture/equipment', 'business', 'car', 'car',\n",
       "       'furniture/equipment', 'radio/TV', 'radio/TV', 'radio/TV',\n",
       "       'radio/TV', 'car', 'business', 'furniture/equipment', 'repairs',\n",
       "       'education', 'car', 'radio/TV', 'radio/TV', 'car',\n",
       "       'domestic appliances', 'car', 'car', 'furniture/equipment',\n",
       "       'furniture/equipment', 'furniture/equipment',\n",
       "       'furniture/equipment', 'business', 'car', 'furniture/equipment',\n",
       "       'furniture/equipment', 'radio/TV', 'education', 'car',\n",
       "       'furniture/equipment', 'radio/TV', 'radio/TV', 'car', 'business',\n",
       "       'business', 'car', 'furniture/equipment', 'car', 'radio/TV', 'car',\n",
       "       'car', 'radio/TV', 'furniture/equipment', 'business', 'business',\n",
       "       'business', 'radio/TV', 'radio/TV', 'education', 'radio/TV',\n",
       "       'furniture/equipment', 'car', 'furniture/equipment', 'education',\n",
       "       'car', 'business', 'education', 'car', 'car',\n",
       "       'furniture/equipment', 'domestic appliances', 'business', 'car',\n",
       "       'radio/TV', 'radio/TV', 'business', 'business', 'radio/TV',\n",
       "       'education', 'business', 'radio/TV', 'furniture/equipment', 'car',\n",
       "       'radio/TV', 'education', 'radio/TV', 'business', 'car', 'repairs',\n",
       "       'radio/TV', 'furniture/equipment', 'radio/TV',\n",
       "       'furniture/equipment', 'radio/TV', 'car', 'radio/TV', 'radio/TV',\n",
       "       'radio/TV', 'radio/TV', 'car', 'business', 'radio/TV', 'radio/TV',\n",
       "       'car', 'radio/TV', 'car', 'business', 'education', 'business',\n",
       "       'radio/TV', 'car', 'furniture/equipment', 'radio/TV', 'car',\n",
       "       'furniture/equipment', 'car', 'furniture/equipment',\n",
       "       'furniture/equipment', 'radio/TV', 'radio/TV', 'radio/TV', 'car',\n",
       "       'radio/TV', 'furniture/equipment', 'radio/TV', 'car', 'education',\n",
       "       'car', 'radio/TV', 'business', 'radio/TV', 'car', 'radio/TV',\n",
       "       'car', 'furniture/equipment', 'car', 'radio/TV', 'repairs',\n",
       "       'radio/TV', 'radio/TV', 'furniture/equipment',\n",
       "       'furniture/equipment', 'radio/TV', 'car', 'furniture/equipment',\n",
       "       'radio/TV', 'furniture/equipment', 'car', 'car', 'car',\n",
       "       'vacation/others', 'radio/TV', 'radio/TV', 'business', 'car',\n",
       "       'car', 'car', 'business', 'furniture/equipment', 'car', 'car',\n",
       "       'furniture/equipment', 'furniture/equipment', 'car', 'radio/TV',\n",
       "       'car', 'car', 'car', 'furniture/equipment', 'car', 'radio/TV',\n",
       "       'furniture/equipment', 'car', 'vacation/others',\n",
       "       'furniture/equipment', 'furniture/equipment', 'car', 'car',\n",
       "       'furniture/equipment', 'furniture/equipment',\n",
       "       'furniture/equipment', 'education', 'furniture/equipment', 'car',\n",
       "       'radio/TV', 'car', 'furniture/equipment', 'car', 'car',\n",
       "       'furniture/equipment', 'car', 'radio/TV', 'radio/TV', 'car',\n",
       "       'education', 'car', 'car', 'furniture/equipment',\n",
       "       'furniture/equipment', 'radio/TV', 'domestic appliances',\n",
       "       'furniture/equipment', 'furniture/equipment', 'education',\n",
       "       'furniture/equipment', 'radio/TV', 'business', 'car', 'radio/TV',\n",
       "       'radio/TV', 'radio/TV', 'business', 'education',\n",
       "       'domestic appliances', 'furniture/equipment', 'car', 'radio/TV',\n",
       "       'education', 'car', 'radio/TV', 'radio/TV', 'radio/TV',\n",
       "       'furniture/equipment', 'education', 'radio/TV', 'car',\n",
       "       'furniture/equipment', 'furniture/equipment', 'business', 'car',\n",
       "       'furniture/equipment', 'furniture/equipment',\n",
       "       'furniture/equipment', 'car', 'radio/TV', 'furniture/equipment',\n",
       "       'car', 'vacation/others', 'business', 'radio/TV', 'radio/TV',\n",
       "       'car', 'car', 'furniture/equipment', 'car', 'car', 'car',\n",
       "       'business', 'radio/TV', 'radio/TV', 'furniture/equipment',\n",
       "       'business', 'business', 'car', 'furniture/equipment', 'car',\n",
       "       'radio/TV', 'furniture/equipment', 'education',\n",
       "       'furniture/equipment', 'furniture/equipment', 'car', 'radio/TV',\n",
       "       'radio/TV', 'business', 'business', 'car', 'car', 'radio/TV',\n",
       "       'car', 'radio/TV', 'radio/TV', 'car', 'radio/TV', 'car',\n",
       "       'business', 'car', 'car', 'car', 'car', 'education', 'car', 'car',\n",
       "       'car', 'car', 'car', 'furniture/equipment', 'furniture/equipment',\n",
       "       'car', 'radio/TV', 'radio/TV', 'furniture/equipment', 'repairs',\n",
       "       'business', 'vacation/others', 'furniture/equipment', 'repairs',\n",
       "       'furniture/equipment', 'radio/TV', 'repairs', 'car', 'repairs',\n",
       "       'business', 'car', 'furniture/equipment', 'vacation/others',\n",
       "       'education', 'furniture/equipment', 'education', 'car', 'radio/TV',\n",
       "       'furniture/equipment', 'repairs', 'car', 'radio/TV',\n",
       "       'furniture/equipment', 'car', 'car', 'car', 'car', 'car',\n",
       "       'domestic appliances', 'radio/TV', 'furniture/equipment', 'car',\n",
       "       'furniture/equipment', 'education', 'business', 'car', 'radio/TV',\n",
       "       'radio/TV', 'business', 'car', 'radio/TV', 'education', 'car',\n",
       "       'education', 'radio/TV', 'furniture/equipment', 'car', 'radio/TV',\n",
       "       'business', 'furniture/equipment', 'radio/TV', 'car',\n",
       "       'furniture/equipment', 'furniture/equipment', 'car', 'car',\n",
       "       'radio/TV', 'car', 'car', 'car', 'radio/TV', 'business',\n",
       "       'radio/TV', 'radio/TV', 'car', 'furniture/equipment',\n",
       "       'furniture/equipment', 'furniture/equipment', 'radio/TV', 'car',\n",
       "       'car', 'car', 'radio/TV', 'radio/TV', 'car', 'car', 'car', 'car',\n",
       "       'radio/TV', 'car', 'car', 'car', 'business', 'radio/TV', 'car',\n",
       "       'car', 'car', 'furniture/equipment', 'car', 'radio/TV', 'repairs',\n",
       "       'radio/TV', 'furniture/equipment', 'car', 'radio/TV', 'car',\n",
       "       'education', 'radio/TV', 'radio/TV', 'car', 'education', 'car',\n",
       "       'car', 'radio/TV', 'radio/TV', 'education', 'car',\n",
       "       'furniture/equipment', 'car', 'furniture/equipment', 'radio/TV',\n",
       "       'car', 'furniture/equipment', 'furniture/equipment', 'car', 'car',\n",
       "       'car', 'radio/TV', 'radio/TV', 'car', 'repairs', 'radio/TV',\n",
       "       'radio/TV', 'car', 'education', 'radio/TV', 'car', 'car',\n",
       "       'furniture/equipment', 'furniture/equipment', 'car', 'radio/TV',\n",
       "       'radio/TV', 'car', 'business', 'radio/TV', 'car', 'radio/TV',\n",
       "       'radio/TV', 'radio/TV', 'furniture/equipment', 'radio/TV', 'car',\n",
       "       'business', 'radio/TV', 'furniture/equipment', 'radio/TV',\n",
       "       'education', 'car', 'education', 'car', 'car',\n",
       "       'furniture/equipment', 'repairs', 'car', 'furniture/equipment',\n",
       "       'car', 'furniture/equipment', 'domestic appliances',\n",
       "       'furniture/equipment', 'radio/TV', 'car', 'business', 'car',\n",
       "       'vacation/others', 'car', 'car', 'business', 'car', 'business',\n",
       "       'radio/TV', 'furniture/equipment', 'education',\n",
       "       'furniture/equipment', 'furniture/equipment',\n",
       "       'furniture/equipment', 'business', 'radio/TV', 'radio/TV', 'car',\n",
       "       'domestic appliances', 'car', 'radio/TV', 'car',\n",
       "       'furniture/equipment', 'business', 'radio/TV', 'car',\n",
       "       'furniture/equipment', 'car', 'business', 'car', 'business',\n",
       "       'furniture/equipment', 'radio/TV', 'radio/TV',\n",
       "       'furniture/equipment', 'car', 'furniture/equipment', 'education',\n",
       "       'radio/TV', 'furniture/equipment', 'radio/TV',\n",
       "       'furniture/equipment', 'car', 'education', 'radio/TV', 'radio/TV',\n",
       "       'radio/TV', 'radio/TV', 'education', 'repairs', 'education',\n",
       "       'radio/TV', 'radio/TV', 'business', 'furniture/equipment', 'car',\n",
       "       'car', 'education', 'education', 'furniture/equipment', 'car',\n",
       "       'car', 'car', 'car', 'car', 'radio/TV', 'business',\n",
       "       'furniture/equipment', 'radio/TV', 'car', 'furniture/equipment',\n",
       "       'furniture/equipment', 'education', 'vacation/others',\n",
       "       'furniture/equipment', 'business', 'car', 'radio/TV', 'business',\n",
       "       'business', 'car', 'car', 'business', 'radio/TV',\n",
       "       'furniture/equipment', 'radio/TV', 'radio/TV', 'radio/TV',\n",
       "       'education', 'radio/TV', 'radio/TV', 'radio/TV', 'business', 'car',\n",
       "       'radio/TV', 'car', 'radio/TV', 'car', 'furniture/equipment',\n",
       "       'repairs', 'radio/TV', 'car', 'radio/TV', 'car', 'radio/TV', 'car',\n",
       "       'radio/TV', 'education', 'furniture/equipment', 'car', 'radio/TV',\n",
       "       'business', 'business', 'car', 'car', 'furniture/equipment',\n",
       "       'radio/TV', 'radio/TV', 'radio/TV', 'education', 'car', 'radio/TV',\n",
       "       'car', 'car', 'radio/TV', 'radio/TV', 'radio/TV', 'car',\n",
       "       'radio/TV', 'education', 'car', 'radio/TV', 'car', 'car',\n",
       "       'radio/TV', 'radio/TV', 'business', 'business', 'radio/TV',\n",
       "       'radio/TV', 'radio/TV', 'car', 'car', 'domestic appliances', 'car',\n",
       "       'car', 'car', 'business', 'car', 'radio/TV', 'radio/TV',\n",
       "       'furniture/equipment', 'furniture/equipment', 'business', 'car',\n",
       "       'car', 'car', 'car', 'furniture/equipment', 'car', 'business',\n",
       "       'radio/TV', 'repairs', 'car', 'car', 'radio/TV', 'car', 'car',\n",
       "       'car', 'furniture/equipment', 'radio/TV', 'car', 'car', 'radio/TV',\n",
       "       'furniture/equipment', 'car', 'furniture/equipment', 'radio/TV',\n",
       "       'car', 'education', 'car', 'radio/TV', 'car', 'car', 'car',\n",
       "       'radio/TV', 'car', 'repairs', 'radio/TV', 'car', 'education',\n",
       "       'car', 'car', 'business', 'radio/TV', 'car', 'education',\n",
       "       'education', 'business', 'car', 'furniture/equipment',\n",
       "       'furniture/equipment', 'furniture/equipment',\n",
       "       'furniture/equipment', 'car', 'furniture/equipment', 'car', 'car',\n",
       "       'education', 'radio/TV', 'furniture/equipment', 'radio/TV', 'car',\n",
       "       'car', 'radio/TV', 'radio/TV', 'car', 'car', 'business',\n",
       "       'radio/TV', 'car', 'domestic appliances', 'car', 'car',\n",
       "       'domestic appliances', 'radio/TV', 'vacation/others', 'radio/TV',\n",
       "       'car', 'radio/TV', 'furniture/equipment', 'car',\n",
       "       'furniture/equipment', 'car', 'car', 'business', 'car', 'business',\n",
       "       'business', 'car', 'business', 'radio/TV', 'radio/TV', 'car',\n",
       "       'radio/TV', 'furniture/equipment', 'car', 'radio/TV',\n",
       "       'furniture/equipment', 'car', 'repairs', 'business',\n",
       "       'furniture/equipment', 'furniture/equipment', 'car', 'car',\n",
       "       'radio/TV', 'radio/TV', 'car', 'car', 'radio/TV', 'car', 'car',\n",
       "       'car', 'education', 'furniture/equipment', 'car', 'car', 'car',\n",
       "       'business', 'radio/TV', 'furniture/equipment',\n",
       "       'furniture/equipment', 'furniture/equipment', 'radio/TV',\n",
       "       'furniture/equipment', 'business', 'furniture/equipment',\n",
       "       'furniture/equipment', 'car', 'business', 'domestic appliances',\n",
       "       'furniture/equipment', 'car', 'radio/TV', 'radio/TV', 'car',\n",
       "       'radio/TV', 'car', 'car', 'car', 'radio/TV', 'furniture/equipment',\n",
       "       'education', 'business', 'business', 'car', 'car', 'business',\n",
       "       'radio/TV', 'car', 'car', 'radio/TV', 'car', 'radio/TV',\n",
       "       'furniture/equipment', 'furniture/equipment',\n",
       "       'furniture/equipment', 'car', 'car', 'car', 'radio/TV', 'radio/TV',\n",
       "       'radio/TV', 'car', 'education', 'car', 'car', 'radio/TV',\n",
       "       'furniture/equipment', 'radio/TV', 'business', 'business',\n",
       "       'vacation/others', 'car', 'car', 'furniture/equipment',\n",
       "       'furniture/equipment', 'furniture/equipment', 'radio/TV',\n",
       "       'radio/TV', 'car', 'furniture/equipment', 'car',\n",
       "       'furniture/equipment', 'car', 'radio/TV', 'car',\n",
       "       'furniture/equipment', 'radio/TV', 'car', 'radio/TV', 'radio/TV',\n",
       "       'radio/TV', 'radio/TV', 'radio/TV', 'education', 'car', 'car',\n",
       "       'car', 'furniture/equipment', 'car', 'furniture/equipment', 'car',\n",
       "       'furniture/equipment', 'car', 'furniture/equipment', 'radio/TV',\n",
       "       'business', 'business', 'car', 'furniture/equipment', 'car',\n",
       "       'radio/TV', 'radio/TV', 'radio/TV', 'car', 'furniture/equipment',\n",
       "       'radio/TV', 'car', 'car', 'radio/TV', 'repairs', 'radio/TV',\n",
       "       'radio/TV', 'radio/TV', 'radio/TV', 'car', 'repairs', 'car', 'car',\n",
       "       'business', 'radio/TV', 'radio/TV', 'radio/TV', 'business', 'car',\n",
       "       'car', 'furniture/equipment', 'business', 'car', 'car',\n",
       "       'furniture/equipment', 'furniture/equipment', 'business',\n",
       "       'radio/TV', 'car', 'radio/TV', 'education', 'radio/TV', 'radio/TV',\n",
       "       'furniture/equipment', 'car', 'furniture/equipment', 'car',\n",
       "       'radio/TV', 'radio/TV', 'car'], dtype=object)"
      ]
     },
     "execution_count": 16,
     "metadata": {},
     "output_type": "execute_result"
    }
   ],
   "source": [
    "proposito = np.array(banco['Purpose'])\n",
    "proposito"
   ]
  },
  {
   "cell_type": "code",
   "execution_count": 30,
   "metadata": {},
   "outputs": [
    {
     "data": {
      "image/png": "[encoded data removed]",
      "text/plain": [
       "<Figure size 720x360 with 1 Axes>"
      ]
     },
     "metadata": {
      "needs_background": "light"
     },
     "output_type": "display_data"
    }
   ],
   "source": [
    "import matplotlib.pyplot as plt\n",
    "\n",
    "marcas = list(frec.keys())\n",
    "valores = list(frec.values())\n",
    "  \n",
    "fig = plt.figure(figsize = (10, 5))\n",
    " \n",
    "# creating the bar plot\n",
    "plt.bar(marcas, valores, color ='blue',\n",
    "        width = 0.4)\n",
    " \n",
    "#plt.xlabel(\"Courses offered\")\n",
    "#plt.ylabel(\"No. of students enrolled\")\n",
    "#plt.title(\"Students enrolled in different courses\")\n",
    "plt.show()"
   ]
  },
  {
   "cell_type": "markdown",
   "metadata": {},
   "source": [
    "### **Tabla de frecuencias datos agrupados**"
   ]
  },
  {
   "cell_type": "markdown",
   "metadata": {},
   "source": [
    "Vamos a construir una función que nos calcule los puntos de corte de las clases generadas para calcular las frecuencias de datos cuantitativos agrupados."
   ]
  },
  {
   "cell_type": "code",
   "execution_count": 14,
   "metadata": {},
   "outputs": [],
   "source": [
    "def puntos_corte(x):\n",
    "    k = int(1 + 3.332*np.log10(len(x))) + 1 #Se calcula el número de clases utilizando la fórmula de sturges\n",
    "    amp = (x.max() - x.min()) / k #Cálculo de la amplitud\n",
    "\n",
    "    x_i = [] #Se crea una lista vacia\n",
    "\n",
    "    for i in range(k + 1):\n",
    "        x_i.append(x.min() + i*amp) #Se generan los puntos de corte agragandolos a la lista vacia x_i\n",
    "    return x_i\n",
    "\n",
    "\n",
    "def frecuencia_clases(x):\n",
    "    k = int(1 + 3.332*np.log10(len(x))) + 1\n",
    "\n",
    "    frec_i = []\n",
    "\n",
    "    for j in range(k):\n",
    "        if j < k-1:\n",
    "            frec_i.append(len(x[(x >=  puntos_corte(x)[j]) & (x < puntos_corte(x)[j+1])]))\n",
    "        elif j >= k-1:\n",
    "            frec_i.append(len(x[(x >=  puntos_corte(x)[j]) & (x <= puntos_corte(x)[j+1])]))\n",
    "    return frec_i"
   ]
  },
  {
   "cell_type": "markdown",
   "metadata": {},
   "source": [
    "### **Ejemplos**\n",
    "\n",
    "Los siguientes datos representan la duración de una llamada que realizan personas a un call center en minutos.  "
   ]
  },
  {
   "cell_type": "code",
   "execution_count": null,
   "metadata": {},
   "outputs": [],
   "source": [
    "np.random.seed(1234)\n",
    "\n",
    "llamadas = np.random.rand(100)*14 + 1\n",
    "llamadas"
   ]
  },
  {
   "cell_type": "markdown",
   "metadata": {},
   "source": [
    "Con la anterior función calculamos los puntos de corte de las clases."
   ]
  },
  {
   "cell_type": "code",
   "execution_count": 178,
   "metadata": {},
   "outputs": [
    {
     "data": {
      "text/plain": [
       "[1.0869192322198116,\n",
       " 2.8121968940219677,\n",
       " 4.537474555824124,\n",
       " 6.2627522176262795,\n",
       " 7.988029879428436,\n",
       " 9.713307541230591,\n",
       " 11.438585203032748,\n",
       " 13.163862864834904,\n",
       " 14.88914052663706]"
      ]
     },
     "execution_count": 178,
     "metadata": {},
     "output_type": "execute_result"
    }
   ],
   "source": [
    "puntos_corte(llamadas)"
   ]
  },
  {
   "cell_type": "markdown",
   "metadata": {},
   "source": [
    "Ahora calculamos la frecuencia de cada una de las clases generadas previamente."
   ]
  },
  {
   "cell_type": "code",
   "execution_count": 179,
   "metadata": {},
   "outputs": [
    {
     "data": {
      "text/plain": [
       "[13, 8, 10, 12, 20, 12, 11, 14]"
      ]
     },
     "execution_count": 179,
     "metadata": {},
     "output_type": "execute_result"
    }
   ],
   "source": [
    "frecuencia_clases(llamadas)"
   ]
  },
  {
   "cell_type": "markdown",
   "metadata": {},
   "source": [
    "### **Ejemplo**\n",
    "\n",
    "Consideremos la base de datos de los clientes del Banco de Alemania, vamos a tomar la variable monto solicitado por los clientes."
   ]
  },
  {
   "cell_type": "code",
   "execution_count": 15,
   "metadata": {},
   "outputs": [
    {
     "data": {
      "text/plain": [
       "[250.0,\n",
       " 1902.1818181818182,\n",
       " 3554.3636363636365,\n",
       " 5206.545454545455,\n",
       " 6858.727272727273,\n",
       " 8510.909090909092,\n",
       " 10163.09090909091,\n",
       " 11815.272727272728,\n",
       " 13467.454545454546,\n",
       " 15119.636363636364,\n",
       " 16771.818181818184,\n",
       " 18424.0]"
      ]
     },
     "execution_count": 15,
     "metadata": {},
     "output_type": "execute_result"
    }
   ],
   "source": [
    "puntos_corte(credito)"
   ]
  },
  {
   "cell_type": "code",
   "execution_count": 18,
   "metadata": {},
   "outputs": [
    {
     "data": {
      "text/plain": [
       "[399, 293, 131, 67, 51, 21, 14, 11, 8, 4, 1]"
      ]
     },
     "execution_count": 18,
     "metadata": {},
     "output_type": "execute_result"
    }
   ],
   "source": [
    "frecuencia_clases(credito)"
   ]
  },
  {
   "cell_type": "markdown",
   "metadata": {},
   "source": [
    "### **Histogramas**\n",
    "\n",
    "Los histogramas son representaciones gráficas utilizadas para vivualizar la frecuancia de datos cuantitativos."
   ]
  },
  {
   "cell_type": "markdown",
   "metadata": {},
   "source": [
    "Construyamos el histograma del tiempo de duración de las llamadas en el call center"
   ]
  },
  {
   "cell_type": "code",
   "execution_count": 23,
   "metadata": {},
   "outputs": [
    {
     "data": {
      "image/png": "[encoded data removed]",
      "text/plain": [
       "<Figure size 432x288 with 1 Axes>"
      ]
     },
     "metadata": {
      "needs_background": "light"
     },
     "output_type": "display_data"
    }
   ],
   "source": [
    "plt.hist(llamadas, bins= 8)\n",
    "plt.show()"
   ]
  },
  {
   "cell_type": "markdown",
   "metadata": {},
   "source": [
    "### **Ejercicio**\n",
    "\n",
    "Construir el histograma de la variable credito."
   ]
  },
  {
   "cell_type": "code",
   "execution_count": null,
   "metadata": {},
   "outputs": [],
   "source": [
    "plt..."
   ]
  },
  {
   "cell_type": "markdown",
   "metadata": {},
   "source": [
    "## **Diagramas circulares (Pastel)**\n",
    "\n",
    "La gráfica de **pastel** proporciona otra gráfica para presentar distribuciones de frecuencia re-\n",
    "lativa y de frecuencia porcentual de datos cualitativos. Para elaborar una gráfica de pastel, pri-\n",
    "mero se dibuja un círculo que representa todos los datos. Después se usa la frecuencia relativa\n",
    "para subdividir el círculo en sectores, o partes, que corresponden a la frecuencia relativa de\n",
    "cada clase."
   ]
  },
  {
   "cell_type": "code",
   "execution_count": 37,
   "metadata": {},
   "outputs": [
    {
     "data": {
      "image/png": "[encoded data removed]",
      "text/plain": [
       "<Figure size 432x288 with 1 Axes>"
      ]
     },
     "metadata": {},
     "output_type": "display_data"
    }
   ],
   "source": [
    "plt.pie(valores, labels = marcas)\n",
    "plt.show()"
   ]
  },
  {
   "cell_type": "code",
   "execution_count": 47,
   "metadata": {},
   "outputs": [
    {
     "data": {
      "image/png": "[encoded data removed]",
      "text/plain": [
       "<Figure size 432x288 with 1 Axes>"
      ]
     },
     "metadata": {},
     "output_type": "display_data"
    }
   ],
   "source": [
    "desfase = (0, 0, 0.1, 0, 0)\n",
    "\n",
    "plt.pie(valores, labels = marcas, autopct = '%0.1f %%', explode= desfase)\n",
    "plt.show()"
   ]
  },
  {
   "cell_type": "markdown",
   "metadata": {},
   "source": [
    "## **Medidas de tendencia central y de dispersión**"
   ]
  },
  {
   "cell_type": "markdown",
   "metadata": {},
   "source": [
    "### **Cálculo de promedios y de valores medios**\n",
    "\n",
    "    Media: mean(data)\n",
    "\n",
    "    La función mean() devuelve la media aritmética de los datos de una muestra o población. Esta media se calcula sumando todos los valores y después el resultado de la suma se divide entre el número de elementos.\n",
    "\n",
    "    Si no se facilitan elementos la función producirá el error StatisticsError."
   ]
  },
  {
   "cell_type": "code",
   "execution_count": null,
   "metadata": {},
   "outputs": [],
   "source": [
    "import statistics as stats\n",
    "\n",
    "edades = [22, 23, 26, 26, 26, 34, 34, 38, 40, 41]\n",
    "stats.mean(edades)"
   ]
  },
  {
   "cell_type": "markdown",
   "metadata": {},
   "source": [
    "### **Mediana: median(data)**\n",
    "\n",
    "La función median() devuelve la mediana o valor medio de los datos. La mediana es el valor central de un grupo de números ordenados por tamaño. Si la cantidad de elementos es par, la mediana es el promedio de los dos números centrales.\n",
    "\n",
    "La función no requiere que la secuencia de números esté ordenada. Si no hay elementos la función retorna el error StatisticsError."
   ]
  },
  {
   "cell_type": "code",
   "execution_count": null,
   "metadata": {},
   "outputs": [],
   "source": [
    "edades = [22, 23, 26, 26, 26, 34, 34, 38, 40, 41]\n",
    "stats.median(edades)"
   ]
  },
  {
   "cell_type": "code",
   "execution_count": null,
   "metadata": {},
   "outputs": [
    {
     "data": {
      "text/plain": [
       "array([ 3.68127231,  9.70952279,  7.12818835, 11.99502017, 11.91966131,\n",
       "        4.81629647,  4.87049957, 12.22621049, 14.41395095, 13.26305689,\n",
       "        6.00944178,  8.01393176, 10.56848109, 10.97782838,  6.18351057,\n",
       "        8.8567466 ,  8.04316431,  1.19275829, 11.8195727 , 13.35697667,\n",
       "        6.10840377,  9.6155465 ,  2.05533738,  6.16353608, 14.06396143,\n",
       "       10.11929401,  6.56083609, 12.042222  ,  5.43570571,  8.95338114,\n",
       "       13.16778345,  7.10642793, 12.23006699,  3.01273554, 10.8596536 ,\n",
       "       10.86413831,  4.06308948, 13.9481468 ,  7.18997058, 13.73042343,\n",
       "        1.83732912,  3.58001917,  1.6629739 , 10.44833321,  9.32474692,\n",
       "        8.46634228,  1.60653688,  8.86006312,  5.61535824,  8.04153566,\n",
       "        2.56652045,  9.50071189,  8.923225  ,  1.09469687,  9.64418392,\n",
       "       13.76972041, 12.06733786, 14.88914053, 14.42322467, 12.08749789,\n",
       "        4.99351344,  9.74883387,  7.69331314,  3.7394525 ,  6.35244433,\n",
       "        1.75423159,  7.32307772, 14.74806638,  2.73519781,  2.67133257,\n",
       "       11.33932279,  9.22225087,  7.60285548,  2.49977544,  4.20905992,\n",
       "       13.59951273,  6.83454953,  8.50192328,  1.08691923,  5.20898388,\n",
       "        7.11650441,  9.57008596, 13.85477306,  9.76031338, 10.88396591,\n",
       "        3.09767202, 11.44488773, 12.63409789,  9.87216077,  7.13633834,\n",
       "        3.13601885,  8.95773461,  8.39513989, 14.32000269,  7.7250285 ,\n",
       "        8.03583389,  8.5162947 , 12.46882894,  1.79961893, 10.3719044 ])"
      ]
     },
     "metadata": {},
     "output_type": "display_data"
    }
   ],
   "source": [
    "np.random.seed(1234)\n",
    "\n",
    "llamadas = np.random.rand(100)*14 + 1\n",
    "llamadas"
   ]
  },
  {
   "cell_type": "markdown",
   "metadata": {},
   "source": [
    "### **Moda: mode(data)**\n",
    "\n",
    "La función mode() devuelve el valor más frecuente de los datos.\n",
    "\n",
    "Si no hay elementos la función produce el error StatisticsError"
   ]
  },
  {
   "cell_type": "code",
   "execution_count": null,
   "metadata": {},
   "outputs": [],
   "source": [
    "edades = [22, 23, 26, 26, 26, 34, 34, 38, 40, 41]\n",
    "stats.mode(edades)"
   ]
  },
  {
   "cell_type": "markdown",
   "metadata": {},
   "source": [
    "## **Medidas de dispersión**\n",
    "\n",
    "### **Varianza (población): pvariance(data, mu=None)**\n",
    "\n",
    "La función pvariance() devuelve la varianza de una población de datos. Esta función es equivalente a variance() pero se aplica a una población en lugar de a una muestra.\n",
    "\n",
    "La varianza es la media de las diferencias con la media elevadas al cuadrado."
   ]
  },
  {
   "cell_type": "code",
   "execution_count": null,
   "metadata": {},
   "outputs": [],
   "source": [
    "edades = [22, 23, 26, 26, 26, 34, 34, 38, 40, 41]\n",
    "stats.pvariance(edades)   "
   ]
  },
  {
   "cell_type": "markdown",
   "metadata": {},
   "source": [
    "### **Desviación estándar (población): pstdev(data, mu=None)**\n",
    "\n",
    "La función pstdev() devuelve la desviación estándar de una población de datos, que se corresponde con la raíz cuadrada de la varianza de dicha población. Esta función es equivalente a stdev() pero se aplica a una población en lugar de a una muestra.\n",
    "\n",
    "La desviación estándar mide cuánto se separan los datos. Así, para cada valor se tiene una forma de saber si es muy grande, muy pequeño o normal. Permite conocer a qué distancia están los valores de la desviación estándar de la media.\n",
    "\n",
    "El argumento mu es opcional y si se facilita debe ser la media de los datos de la población. En caso contrario, la función lo calculará automáticamente."
   ]
  },
  {
   "cell_type": "code",
   "execution_count": null,
   "metadata": {},
   "outputs": [],
   "source": [
    "\n",
    "edades = [22, 23, 26, 26, 26, 34, 34, 38, 40, 41]\n",
    "stats.pstdev(edades)"
   ]
  },
  {
   "cell_type": "markdown",
   "metadata": {},
   "source": [
    "### **Varianza (muestra): variance(data, xbar=None)**\n",
    "\n",
    "La función variance() devuelve la varianza de una muestra de datos. La varianza mide en qué medida se dispersan los valores de una muestra alrededor de un valor central.\n",
    "\n",
    "El argumento xbar es opcional y si se facilita debe ser la media de los datos. En caso contrario, la función calculará este dato automáticamente.\n",
    "\n",
    "Para calcular la varianza de una población entera utilizar la función pvariance().\n",
    "\n",
    "Si no hay elementos o hay menos de dos la función producirá el error StatisticsError"
   ]
  },
  {
   "cell_type": "code",
   "execution_count": null,
   "metadata": {},
   "outputs": [],
   "source": [
    "muestra_edades = [22, 23, 26, 26, 34, 38, 40]\n",
    "stats.variance(muestra_edades)"
   ]
  },
  {
   "cell_type": "markdown",
   "metadata": {},
   "source": [
    "### **Desviación estándar (muestra): stdev(data, xbar=None)**\n",
    "\n",
    "La función stdev() devuelve la desviación estándar de una muestra de datos, que se corresponde con la raíz cuadrada de la varianza de dicha muestra.\n",
    "\n",
    "La desviación estándar mide cuánto se separan los datos. Así, para cada valor se tiene una forma de saber si es muy grande, muy pequeño o normal. Permite conocer a qué distancia están los valores de la desviación estándar de la media.\n",
    "\n",
    "Para calcular la desviación estándar de una población entera utilizar la función pstdev().\n",
    "\n",
    "El argumento xbar es opcional y si se facilita debe ser la media de los datos. En caso contrario, la función lo calculará automáticamente."
   ]
  },
  {
   "cell_type": "code",
   "execution_count": null,
   "metadata": {},
   "outputs": [],
   "source": [
    "muestra_edades = [22, 23, 26, 26, 34, 38, 40]\n",
    "stats.stdev(muestra_edades)"
   ]
  },
  {
   "cell_type": "markdown",
   "metadata": {},
   "source": [
    "### **Ejercicio**\n",
    "\n",
    "Calcular los estadísticos utilizados previamente para la siguiente lista de producción de automoviles diarios vendidos en un concesionario."
   ]
  },
  {
   "cell_type": "code",
   "execution_count": 27,
   "metadata": {},
   "outputs": [],
   "source": [
    "autos_vendidos = [19, 22, 34, 26, 32, 30, 24, 24]"
   ]
  },
  {
   "cell_type": "code",
   "execution_count": 61,
   "metadata": {},
   "outputs": [],
   "source": [
    "import statistics as stats"
   ]
  },
  {
   "cell_type": "code",
   "execution_count": 64,
   "metadata": {},
   "outputs": [
    {
     "data": {
      "text/plain": [
       "array([17, 13,  6,  3,  7,  4,  8, 12,  1, 10, 12, 17,  4,  3, 20])"
      ]
     },
     "execution_count": 64,
     "metadata": {},
     "output_type": "execute_result"
    }
   ],
   "source": [
    "a = np.random.randint(1,21, 15)\n",
    "a"
   ]
  },
  {
   "cell_type": "code",
   "execution_count": 72,
   "metadata": {},
   "outputs": [
    {
     "name": "stdout",
     "output_type": "stream",
     "text": [
      "[ 1  3  3  4  4  6  7  8 10 12 12 13 17 17 20]\n"
     ]
    },
    {
     "data": {
      "text/plain": [
       "8"
      ]
     },
     "execution_count": 72,
     "metadata": {},
     "output_type": "execute_result"
    }
   ],
   "source": [
    "a = np.sort(a)\n",
    "print(a)\n",
    "a[int(len(a) / 2)]"
   ]
  },
  {
   "cell_type": "code",
   "execution_count": 70,
   "metadata": {},
   "outputs": [
    {
     "data": {
      "text/plain": [
       "8"
      ]
     },
     "execution_count": 70,
     "metadata": {},
     "output_type": "execute_result"
    }
   ],
   "source": [
    "stats.median(a)"
   ]
  },
  {
   "cell_type": "code",
   "execution_count": 87,
   "metadata": {},
   "outputs": [
    {
     "data": {
      "text/plain": [
       "array([16,  9,  3, 17, 12,  3, 19, 16,  4, 15,  3,  5,  2, 11,  3, 14])"
      ]
     },
     "execution_count": 87,
     "metadata": {},
     "output_type": "execute_result"
    }
   ],
   "source": [
    "b = np.random.randint(1,21, 16)\n",
    "b"
   ]
  },
  {
   "cell_type": "code",
   "execution_count": 89,
   "metadata": {},
   "outputs": [
    {
     "data": {
      "text/plain": [
       "10.0"
      ]
     },
     "execution_count": 89,
     "metadata": {},
     "output_type": "execute_result"
    }
   ],
   "source": [
    "stats.median(b)"
   ]
  },
  {
   "cell_type": "code",
   "execution_count": 101,
   "metadata": {},
   "outputs": [
    {
     "data": {
      "text/plain": [
       "['nike',\n",
       " 'adidas',\n",
       " 'nike',\n",
       " 'jordan',\n",
       " 'jordan',\n",
       " 'rebook',\n",
       " 'under-armour',\n",
       " 'adidas']"
      ]
     },
     "execution_count": 101,
     "metadata": {},
     "output_type": "execute_result"
    }
   ],
   "source": [
    "marcas_ropa = ['nike', 'adidas', 'nike', 'jordan','jordan', 'rebook', 'under-armour', 'adidas']\n",
    "marcas_ropa"
   ]
  },
  {
   "cell_type": "code",
   "execution_count": null,
   "metadata": {},
   "outputs": [],
   "source": []
  },
  {
   "cell_type": "code",
   "execution_count": 104,
   "metadata": {},
   "outputs": [
    {
     "data": {
      "text/plain": [
       "['nike', 'adidas', 'jordan']"
      ]
     },
     "execution_count": 104,
     "metadata": {},
     "output_type": "execute_result"
    }
   ],
   "source": [
    "stats.multimode(marcas_ropa)"
   ]
  }
 ],
 "metadata": {
  "interpreter": {
   "hash": "1448b48b023bcc9c3d4a79e814720a10ca6d4244f75e0f7ce4af58f96ba2b7d3"
  },
  "kernelspec": {
   "display_name": "Python 3.8.8 64-bit ('base': conda)",
   "language": "python",
   "name": "python3"
  },
  "language_info": {
   "codemirror_mode": {
    "name": "ipython",
    "version": 3
   },
   "file_extension": ".py",
   "mimetype": "text/x-python",
   "name": "python",
   "nbconvert_exporter": "python",
   "pygments_lexer": "ipython3",
   "version": "3.8.8"
  },
  "orig_nbformat": 4
 },
 "nbformat": 4,
 "nbformat_minor": 2
}
