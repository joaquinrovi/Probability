{
 "cells": [
  {
   "cell_type": "markdown",
   "metadata": {},
   "source": [
    "<a href=\"https://colab.research.google.com/github/alfonsocude/Probability/blob/main/01-Estadistica_Descriptiva.ipynb#scrollTo=bCcq_rENpiJX\" target=\"_parent\"><img src=\"https://colab.research.google.com/assets/colab-badge.svg\" alt=\"Open In Colab\"/></a>\n",
    "\n",
    "\n",
    "**Recuerda que una vez abierto, Da clic en \"Copiar en Drive\", de lo contrario no podras almancenar tu progreso**\n",
    "\n",
    "Nota: no olvide ir ejecutando las celdas de código de arriba hacia abajo para que no tenga errores de importación de librerías o por falta de definición de variables."
   ]
  },
  {
   "cell_type": "code",
   "execution_count": 60,
   "metadata": {},
   "outputs": [],
   "source": [
    "!wget --no-cache -O init.py -q https://raw.githubusercontent.com/alfonsocude/Probability/master/init.py\n",
    "import init; init.init(force_download=False); \n",
    "from IPython.display import Image"
   ]
  },
  {
   "cell_type": "code",
   "execution_count": 51,
   "metadata": {},
   "outputs": [],
   "source": [
    "from IPython.display import Image"
   ]
  },
  {
   "cell_type": "markdown",
   "metadata": {},
   "source": [
    "# **Estadística**\n",
    "\n",
    "La **estadística** se define como el arte y la ciencia de reunir datos, analizarlos,\n",
    "presentarlos e interpretarlos.\n",
    "\n",
    "Las aplicaciones de la estadística son múltiples en diferentes compos.\n",
    "* Contaduria\n",
    "* Marketing\n",
    "* Finanzas\n",
    "* Producción\n",
    "* Economía\n",
    "* Ingeniería\n",
    "* Salud\n",
    "\n",
    "### **Datos**\n",
    "Datos son hechos/informaciones y cifras que se recogen, analizan y resumen para su presenta-\n",
    "ción e interpretación. A todos los datos reunidos para un determinado estudio se les llama con-\n",
    "junto de datos para el estudio.\n",
    "\n",
    "## **Elementos, variables y observaciones**\n",
    "**Elementos** son las entidades de las que se obtienen los datos. \n",
    "Una **variable** es una característica de los elementos que es de interés.\n",
    "Los valores encontrados para cada variable en cada uno de los elementos constituyen los\n",
    "**datos**. Al conjunto de mediciones obtenidas para un determinado elemento se le llama **observación**.\n",
    "\n",
    "### **Datos cualitativos y cuantitativos**\n",
    "Los datos también son clasificados en **cualitativos** y **cuantitativos**. Los **datos cualitativos** comprenden etiquetas o nombres que se usan para identificar un atributo de cada elemento. Los **datos\n",
    "cualitativos** emplean la escala nominal o la ordinal y pueden ser numéricos o no. Los datos cuantitativos requieren valores numéricos que indiquen cuánto o cuántos. Los datos cuantitativos se\n",
    "obtienen usando las escalas de medición de intervalo o de razón."
   ]
  },
  {
   "cell_type": "markdown",
   "metadata": {},
   "source": [
    "# **Estadística Descriptiva**\n",
    "La **estadística descriptiva** se puede definir como resúmenes de datos, que pueden ser tabulares, gráficos o numéricos.\n",
    "\n",
    "En muchas situaciones se requiere información acerca de grupos grandes de elementos (individuos, empresas, votantes, hogares, productos, clientes, etc.). Pero, debido al tiempo, costo y a otras consideraciones, sólo es posible recolectar los datos de una pequeña parte de este grupo. Al grupo grande de elementos en un determinado estudio se le llama **población** y al grupo pequeño **muestra**. En términos formales se emplean las definiciones siguientes.\n",
    "\n",
    "### **Población**\n",
    "La población es el conjunto de todos los elementos de interés en un estudio determinado.\n",
    "\n",
    "### **Muestra**\n",
    "\n",
    "La muestra es un subconjunto de la población.\n",
    "\n",
    "Al proceso de realizar un estudio para recolectar datos de toda una población se le llama **censo**. Al proceso de efectuar un estudio para recolectar datos de una muestra se le llama **encuesta muestral**. Una de las principales contribuciones de la estadística es emplear datos de una muestra para hacer estimaciones y probar hipótesis acerca de las características de una población mediante un proceso al que se le conoce como **inferencia estadística**.\n"
   ]
  },
  {
   "cell_type": "code",
   "execution_count": 22,
   "metadata": {},
   "outputs": [
    {
     "data": {
      "text/html": [
       "<div>\n",
       "<style scoped>\n",
       "    .dataframe tbody tr th:only-of-type {\n",
       "        vertical-align: middle;\n",
       "    }\n",
       "\n",
       "    .dataframe tbody tr th {\n",
       "        vertical-align: top;\n",
       "    }\n",
       "\n",
       "    .dataframe thead th {\n",
       "        text-align: right;\n",
       "    }\n",
       "</style>\n",
       "<table border=\"1\" class=\"dataframe\">\n",
       "  <thead>\n",
       "    <tr style=\"text-align: right;\">\n",
       "      <th></th>\n",
       "      <th>ventas</th>\n",
       "    </tr>\n",
       "  </thead>\n",
       "  <tbody>\n",
       "    <tr>\n",
       "      <th>0</th>\n",
       "      <td>Coke Classic</td>\n",
       "    </tr>\n",
       "    <tr>\n",
       "      <th>1</th>\n",
       "      <td>Diet Coke</td>\n",
       "    </tr>\n",
       "    <tr>\n",
       "      <th>2</th>\n",
       "      <td>Pepsi</td>\n",
       "    </tr>\n",
       "    <tr>\n",
       "      <th>3</th>\n",
       "      <td>Diet Coke</td>\n",
       "    </tr>\n",
       "    <tr>\n",
       "      <th>4</th>\n",
       "      <td>Coke Classic</td>\n",
       "    </tr>\n",
       "  </tbody>\n",
       "</table>\n",
       "</div>"
      ],
      "text/plain": [
       "         ventas\n",
       "0  Coke Classic\n",
       "1     Diet Coke\n",
       "2         Pepsi\n",
       "3     Diet Coke\n",
       "4  Coke Classic"
      ]
     },
     "execution_count": 22,
     "metadata": {},
     "output_type": "execute_result"
    }
   ],
   "source": [
    "import numpy as np\n",
    "import pandas as pd\n",
    "\n",
    "ventas = pd.read_excel('local/data/ventas_gaseosas.xlsx')\n",
    "ventas.head()"
   ]
  },
  {
   "cell_type": "code",
   "execution_count": 23,
   "metadata": {},
   "outputs": [
    {
     "data": {
      "text/plain": [
       "0    Coke Classic\n",
       "1       Diet Coke\n",
       "2           Pepsi\n",
       "3       Diet Coke\n",
       "4    Coke Classic\n",
       "Name: ventas, dtype: object"
      ]
     },
     "execution_count": 23,
     "metadata": {},
     "output_type": "execute_result"
    }
   ],
   "source": [
    "marcas_gaseosas = ventas['ventas']\n",
    "marcas_gaseosas.head()"
   ]
  },
  {
   "cell_type": "markdown",
   "metadata": {},
   "source": [
    "Vamos a determinar la frecuencia de cada marca de gaseosa. Para ello importamos de la librería collections la función Counter()."
   ]
  },
  {
   "cell_type": "code",
   "execution_count": 24,
   "metadata": {},
   "outputs": [
    {
     "data": {
      "text/plain": [
       "Counter({'Coke Classic': 19,\n",
       "         'Diet Coke': 8,\n",
       "         'Pepsi': 13,\n",
       "         'Dr. Pepper': 5,\n",
       "         'Sprite': 5})"
      ]
     },
     "execution_count": 24,
     "metadata": {},
     "output_type": "execute_result"
    }
   ],
   "source": [
    "from collections import Counter\n",
    "\n",
    "frec_marcas_gaseosas = Counter(marcas_gaseosas)\n",
    "frec_marcas_gaseosas"
   ]
  },
  {
   "cell_type": "markdown",
   "metadata": {},
   "source": [
    "### **Clientes Banco de Alemania**\n",
    "\n",
    "Trabajemos ahora con la base de datos de clientes que han solicitado créditos del banco alemán."
   ]
  },
  {
   "cell_type": "code",
   "execution_count": 25,
   "metadata": {},
   "outputs": [
    {
     "data": {
      "text/html": [
       "<div>\n",
       "<style scoped>\n",
       "    .dataframe tbody tr th:only-of-type {\n",
       "        vertical-align: middle;\n",
       "    }\n",
       "\n",
       "    .dataframe tbody tr th {\n",
       "        vertical-align: top;\n",
       "    }\n",
       "\n",
       "    .dataframe thead th {\n",
       "        text-align: right;\n",
       "    }\n",
       "</style>\n",
       "<table border=\"1\" class=\"dataframe\">\n",
       "  <thead>\n",
       "    <tr style=\"text-align: right;\">\n",
       "      <th></th>\n",
       "      <th>Unnamed: 0</th>\n",
       "      <th>Age</th>\n",
       "      <th>Sex</th>\n",
       "      <th>Job</th>\n",
       "      <th>Housing</th>\n",
       "      <th>Saving accounts</th>\n",
       "      <th>Checking account</th>\n",
       "      <th>Credit amount</th>\n",
       "      <th>Duration</th>\n",
       "      <th>Purpose</th>\n",
       "      <th>Risk</th>\n",
       "    </tr>\n",
       "  </thead>\n",
       "  <tbody>\n",
       "    <tr>\n",
       "      <th>0</th>\n",
       "      <td>0</td>\n",
       "      <td>67</td>\n",
       "      <td>male</td>\n",
       "      <td>2</td>\n",
       "      <td>own</td>\n",
       "      <td>NaN</td>\n",
       "      <td>little</td>\n",
       "      <td>1169</td>\n",
       "      <td>6</td>\n",
       "      <td>radio/TV</td>\n",
       "      <td>good</td>\n",
       "    </tr>\n",
       "    <tr>\n",
       "      <th>1</th>\n",
       "      <td>1</td>\n",
       "      <td>22</td>\n",
       "      <td>female</td>\n",
       "      <td>2</td>\n",
       "      <td>own</td>\n",
       "      <td>little</td>\n",
       "      <td>moderate</td>\n",
       "      <td>5951</td>\n",
       "      <td>48</td>\n",
       "      <td>radio/TV</td>\n",
       "      <td>bad</td>\n",
       "    </tr>\n",
       "    <tr>\n",
       "      <th>2</th>\n",
       "      <td>2</td>\n",
       "      <td>49</td>\n",
       "      <td>male</td>\n",
       "      <td>1</td>\n",
       "      <td>own</td>\n",
       "      <td>little</td>\n",
       "      <td>NaN</td>\n",
       "      <td>2096</td>\n",
       "      <td>12</td>\n",
       "      <td>education</td>\n",
       "      <td>good</td>\n",
       "    </tr>\n",
       "    <tr>\n",
       "      <th>3</th>\n",
       "      <td>3</td>\n",
       "      <td>45</td>\n",
       "      <td>male</td>\n",
       "      <td>2</td>\n",
       "      <td>free</td>\n",
       "      <td>little</td>\n",
       "      <td>little</td>\n",
       "      <td>7882</td>\n",
       "      <td>42</td>\n",
       "      <td>furniture/equipment</td>\n",
       "      <td>good</td>\n",
       "    </tr>\n",
       "    <tr>\n",
       "      <th>4</th>\n",
       "      <td>4</td>\n",
       "      <td>53</td>\n",
       "      <td>male</td>\n",
       "      <td>2</td>\n",
       "      <td>free</td>\n",
       "      <td>little</td>\n",
       "      <td>little</td>\n",
       "      <td>4870</td>\n",
       "      <td>24</td>\n",
       "      <td>car</td>\n",
       "      <td>bad</td>\n",
       "    </tr>\n",
       "  </tbody>\n",
       "</table>\n",
       "</div>"
      ],
      "text/plain": [
       "   Unnamed: 0  Age     Sex  Job Housing Saving accounts Checking account  \\\n",
       "0           0   67    male    2     own             NaN           little   \n",
       "1           1   22  female    2     own          little         moderate   \n",
       "2           2   49    male    1     own          little              NaN   \n",
       "3           3   45    male    2    free          little           little   \n",
       "4           4   53    male    2    free          little           little   \n",
       "\n",
       "   Credit amount  Duration              Purpose  Risk  \n",
       "0           1169         6             radio/TV  good  \n",
       "1           5951        48             radio/TV   bad  \n",
       "2           2096        12            education  good  \n",
       "3           7882        42  furniture/equipment  good  \n",
       "4           4870        24                  car   bad  "
      ]
     },
     "execution_count": 25,
     "metadata": {},
     "output_type": "execute_result"
    }
   ],
   "source": [
    "banco = pd.read_csv('local/data/german_credit_data.csv')\n",
    "banco.head()"
   ]
  },
  {
   "cell_type": "markdown",
   "metadata": {},
   "source": [
    "Analicemos la variable 'Credit amount', la cual nos indica el monto de préstamo solicitado por cada cliente"
   ]
  },
  {
   "cell_type": "code",
   "execution_count": 26,
   "metadata": {},
   "outputs": [
    {
     "data": {
      "text/plain": [
       "0    1169\n",
       "1    5951\n",
       "2    2096\n",
       "3    7882\n",
       "4    4870\n",
       "Name: Credit amount, dtype: int64"
      ]
     },
     "execution_count": 26,
     "metadata": {},
     "output_type": "execute_result"
    }
   ],
   "source": [
    "credito = banco['Credit amount']\n",
    "credito.head()"
   ]
  },
  {
   "cell_type": "code",
   "execution_count": 27,
   "metadata": {},
   "outputs": [],
   "source": [
    "genero = np.array(banco['Sex'])"
   ]
  },
  {
   "cell_type": "code",
   "execution_count": 28,
   "metadata": {},
   "outputs": [
    {
     "data": {
      "text/plain": [
       "array(['radio/TV', 'radio/TV', 'education', 'furniture/equipment', 'car',\n",
       "       'education', 'furniture/equipment', 'car', 'radio/TV', 'car',\n",
       "       'car', 'business', 'radio/TV', 'car', 'car', 'radio/TV',\n",
       "       'radio/TV', 'business', 'car', 'radio/TV', 'car', 'radio/TV',\n",
       "       'car', 'car', 'furniture/equipment', 'furniture/equipment',\n",
       "       'radio/TV', 'radio/TV', 'radio/TV', 'business', 'business',\n",
       "       'furniture/equipment', 'car', 'business', 'furniture/equipment',\n",
       "       'radio/TV', 'education', 'radio/TV', 'domestic appliances',\n",
       "       'radio/TV', 'radio/TV', 'radio/TV', 'repairs', 'car', 'car', 'car',\n",
       "       'radio/TV', 'car', 'car', 'radio/TV', 'furniture/equipment', 'car',\n",
       "       'radio/TV', 'car', 'car', 'car', 'radio/TV', 'radio/TV', 'car',\n",
       "       'furniture/equipment', 'business', 'radio/TV', 'business',\n",
       "       'business', 'radio/TV', 'repairs', 'radio/TV', 'car', 'education',\n",
       "       'radio/TV', 'car', 'radio/TV', 'vacation/others', 'business',\n",
       "       'education', 'car', 'radio/TV', 'radio/TV', 'car',\n",
       "       'furniture/equipment', 'radio/TV', 'radio/TV', 'business',\n",
       "       'vacation/others', 'radio/TV', 'business', 'furniture/equipment',\n",
       "       'education', 'car', 'repairs', 'radio/TV', 'car', 'radio/TV',\n",
       "       'furniture/equipment', 'car', 'business', 'education', 'business',\n",
       "       'radio/TV', 'car', 'car', 'radio/TV', 'radio/TV',\n",
       "       'furniture/equipment', 'car', 'vacation/others', 'car', 'car',\n",
       "       'furniture/equipment', 'business', 'business', 'education', 'car',\n",
       "       'car', 'radio/TV', 'radio/TV', 'radio/TV', 'furniture/equipment',\n",
       "       'furniture/equipment', 'car', 'radio/TV', 'car',\n",
       "       'furniture/equipment', 'car', 'furniture/equipment', 'car',\n",
       "       'radio/TV', 'repairs', 'car', 'car', 'car', 'education',\n",
       "       'furniture/equipment', 'furniture/equipment', 'radio/TV',\n",
       "       'radio/TV', 'car', 'radio/TV', 'radio/TV', 'radio/TV', 'car',\n",
       "       'radio/TV', 'radio/TV', 'furniture/equipment',\n",
       "       'furniture/equipment', 'business', 'car', 'car',\n",
       "       'furniture/equipment', 'radio/TV', 'radio/TV', 'radio/TV',\n",
       "       'radio/TV', 'car', 'business', 'furniture/equipment', 'repairs',\n",
       "       'education', 'car', 'radio/TV', 'radio/TV', 'car',\n",
       "       'domestic appliances', 'car', 'car', 'furniture/equipment',\n",
       "       'furniture/equipment', 'furniture/equipment',\n",
       "       'furniture/equipment', 'business', 'car', 'furniture/equipment',\n",
       "       'furniture/equipment', 'radio/TV', 'education', 'car',\n",
       "       'furniture/equipment', 'radio/TV', 'radio/TV', 'car', 'business',\n",
       "       'business', 'car', 'furniture/equipment', 'car', 'radio/TV', 'car',\n",
       "       'car', 'radio/TV', 'furniture/equipment', 'business', 'business',\n",
       "       'business', 'radio/TV', 'radio/TV', 'education', 'radio/TV',\n",
       "       'furniture/equipment', 'car', 'furniture/equipment', 'education',\n",
       "       'car', 'business', 'education', 'car', 'car',\n",
       "       'furniture/equipment', 'domestic appliances', 'business', 'car',\n",
       "       'radio/TV', 'radio/TV', 'business', 'business', 'radio/TV',\n",
       "       'education', 'business', 'radio/TV', 'furniture/equipment', 'car',\n",
       "       'radio/TV', 'education', 'radio/TV', 'business', 'car', 'repairs',\n",
       "       'radio/TV', 'furniture/equipment', 'radio/TV',\n",
       "       'furniture/equipment', 'radio/TV', 'car', 'radio/TV', 'radio/TV',\n",
       "       'radio/TV', 'radio/TV', 'car', 'business', 'radio/TV', 'radio/TV',\n",
       "       'car', 'radio/TV', 'car', 'business', 'education', 'business',\n",
       "       'radio/TV', 'car', 'furniture/equipment', 'radio/TV', 'car',\n",
       "       'furniture/equipment', 'car', 'furniture/equipment',\n",
       "       'furniture/equipment', 'radio/TV', 'radio/TV', 'radio/TV', 'car',\n",
       "       'radio/TV', 'furniture/equipment', 'radio/TV', 'car', 'education',\n",
       "       'car', 'radio/TV', 'business', 'radio/TV', 'car', 'radio/TV',\n",
       "       'car', 'furniture/equipment', 'car', 'radio/TV', 'repairs',\n",
       "       'radio/TV', 'radio/TV', 'furniture/equipment',\n",
       "       'furniture/equipment', 'radio/TV', 'car', 'furniture/equipment',\n",
       "       'radio/TV', 'furniture/equipment', 'car', 'car', 'car',\n",
       "       'vacation/others', 'radio/TV', 'radio/TV', 'business', 'car',\n",
       "       'car', 'car', 'business', 'furniture/equipment', 'car', 'car',\n",
       "       'furniture/equipment', 'furniture/equipment', 'car', 'radio/TV',\n",
       "       'car', 'car', 'car', 'furniture/equipment', 'car', 'radio/TV',\n",
       "       'furniture/equipment', 'car', 'vacation/others',\n",
       "       'furniture/equipment', 'furniture/equipment', 'car', 'car',\n",
       "       'furniture/equipment', 'furniture/equipment',\n",
       "       'furniture/equipment', 'education', 'furniture/equipment', 'car',\n",
       "       'radio/TV', 'car', 'furniture/equipment', 'car', 'car',\n",
       "       'furniture/equipment', 'car', 'radio/TV', 'radio/TV', 'car',\n",
       "       'education', 'car', 'car', 'furniture/equipment',\n",
       "       'furniture/equipment', 'radio/TV', 'domestic appliances',\n",
       "       'furniture/equipment', 'furniture/equipment', 'education',\n",
       "       'furniture/equipment', 'radio/TV', 'business', 'car', 'radio/TV',\n",
       "       'radio/TV', 'radio/TV', 'business', 'education',\n",
       "       'domestic appliances', 'furniture/equipment', 'car', 'radio/TV',\n",
       "       'education', 'car', 'radio/TV', 'radio/TV', 'radio/TV',\n",
       "       'furniture/equipment', 'education', 'radio/TV', 'car',\n",
       "       'furniture/equipment', 'furniture/equipment', 'business', 'car',\n",
       "       'furniture/equipment', 'furniture/equipment',\n",
       "       'furniture/equipment', 'car', 'radio/TV', 'furniture/equipment',\n",
       "       'car', 'vacation/others', 'business', 'radio/TV', 'radio/TV',\n",
       "       'car', 'car', 'furniture/equipment', 'car', 'car', 'car',\n",
       "       'business', 'radio/TV', 'radio/TV', 'furniture/equipment',\n",
       "       'business', 'business', 'car', 'furniture/equipment', 'car',\n",
       "       'radio/TV', 'furniture/equipment', 'education',\n",
       "       'furniture/equipment', 'furniture/equipment', 'car', 'radio/TV',\n",
       "       'radio/TV', 'business', 'business', 'car', 'car', 'radio/TV',\n",
       "       'car', 'radio/TV', 'radio/TV', 'car', 'radio/TV', 'car',\n",
       "       'business', 'car', 'car', 'car', 'car', 'education', 'car', 'car',\n",
       "       'car', 'car', 'car', 'furniture/equipment', 'furniture/equipment',\n",
       "       'car', 'radio/TV', 'radio/TV', 'furniture/equipment', 'repairs',\n",
       "       'business', 'vacation/others', 'furniture/equipment', 'repairs',\n",
       "       'furniture/equipment', 'radio/TV', 'repairs', 'car', 'repairs',\n",
       "       'business', 'car', 'furniture/equipment', 'vacation/others',\n",
       "       'education', 'furniture/equipment', 'education', 'car', 'radio/TV',\n",
       "       'furniture/equipment', 'repairs', 'car', 'radio/TV',\n",
       "       'furniture/equipment', 'car', 'car', 'car', 'car', 'car',\n",
       "       'domestic appliances', 'radio/TV', 'furniture/equipment', 'car',\n",
       "       'furniture/equipment', 'education', 'business', 'car', 'radio/TV',\n",
       "       'radio/TV', 'business', 'car', 'radio/TV', 'education', 'car',\n",
       "       'education', 'radio/TV', 'furniture/equipment', 'car', 'radio/TV',\n",
       "       'business', 'furniture/equipment', 'radio/TV', 'car',\n",
       "       'furniture/equipment', 'furniture/equipment', 'car', 'car',\n",
       "       'radio/TV', 'car', 'car', 'car', 'radio/TV', 'business',\n",
       "       'radio/TV', 'radio/TV', 'car', 'furniture/equipment',\n",
       "       'furniture/equipment', 'furniture/equipment', 'radio/TV', 'car',\n",
       "       'car', 'car', 'radio/TV', 'radio/TV', 'car', 'car', 'car', 'car',\n",
       "       'radio/TV', 'car', 'car', 'car', 'business', 'radio/TV', 'car',\n",
       "       'car', 'car', 'furniture/equipment', 'car', 'radio/TV', 'repairs',\n",
       "       'radio/TV', 'furniture/equipment', 'car', 'radio/TV', 'car',\n",
       "       'education', 'radio/TV', 'radio/TV', 'car', 'education', 'car',\n",
       "       'car', 'radio/TV', 'radio/TV', 'education', 'car',\n",
       "       'furniture/equipment', 'car', 'furniture/equipment', 'radio/TV',\n",
       "       'car', 'furniture/equipment', 'furniture/equipment', 'car', 'car',\n",
       "       'car', 'radio/TV', 'radio/TV', 'car', 'repairs', 'radio/TV',\n",
       "       'radio/TV', 'car', 'education', 'radio/TV', 'car', 'car',\n",
       "       'furniture/equipment', 'furniture/equipment', 'car', 'radio/TV',\n",
       "       'radio/TV', 'car', 'business', 'radio/TV', 'car', 'radio/TV',\n",
       "       'radio/TV', 'radio/TV', 'furniture/equipment', 'radio/TV', 'car',\n",
       "       'business', 'radio/TV', 'furniture/equipment', 'radio/TV',\n",
       "       'education', 'car', 'education', 'car', 'car',\n",
       "       'furniture/equipment', 'repairs', 'car', 'furniture/equipment',\n",
       "       'car', 'furniture/equipment', 'domestic appliances',\n",
       "       'furniture/equipment', 'radio/TV', 'car', 'business', 'car',\n",
       "       'vacation/others', 'car', 'car', 'business', 'car', 'business',\n",
       "       'radio/TV', 'furniture/equipment', 'education',\n",
       "       'furniture/equipment', 'furniture/equipment',\n",
       "       'furniture/equipment', 'business', 'radio/TV', 'radio/TV', 'car',\n",
       "       'domestic appliances', 'car', 'radio/TV', 'car',\n",
       "       'furniture/equipment', 'business', 'radio/TV', 'car',\n",
       "       'furniture/equipment', 'car', 'business', 'car', 'business',\n",
       "       'furniture/equipment', 'radio/TV', 'radio/TV',\n",
       "       'furniture/equipment', 'car', 'furniture/equipment', 'education',\n",
       "       'radio/TV', 'furniture/equipment', 'radio/TV',\n",
       "       'furniture/equipment', 'car', 'education', 'radio/TV', 'radio/TV',\n",
       "       'radio/TV', 'radio/TV', 'education', 'repairs', 'education',\n",
       "       'radio/TV', 'radio/TV', 'business', 'furniture/equipment', 'car',\n",
       "       'car', 'education', 'education', 'furniture/equipment', 'car',\n",
       "       'car', 'car', 'car', 'car', 'radio/TV', 'business',\n",
       "       'furniture/equipment', 'radio/TV', 'car', 'furniture/equipment',\n",
       "       'furniture/equipment', 'education', 'vacation/others',\n",
       "       'furniture/equipment', 'business', 'car', 'radio/TV', 'business',\n",
       "       'business', 'car', 'car', 'business', 'radio/TV',\n",
       "       'furniture/equipment', 'radio/TV', 'radio/TV', 'radio/TV',\n",
       "       'education', 'radio/TV', 'radio/TV', 'radio/TV', 'business', 'car',\n",
       "       'radio/TV', 'car', 'radio/TV', 'car', 'furniture/equipment',\n",
       "       'repairs', 'radio/TV', 'car', 'radio/TV', 'car', 'radio/TV', 'car',\n",
       "       'radio/TV', 'education', 'furniture/equipment', 'car', 'radio/TV',\n",
       "       'business', 'business', 'car', 'car', 'furniture/equipment',\n",
       "       'radio/TV', 'radio/TV', 'radio/TV', 'education', 'car', 'radio/TV',\n",
       "       'car', 'car', 'radio/TV', 'radio/TV', 'radio/TV', 'car',\n",
       "       'radio/TV', 'education', 'car', 'radio/TV', 'car', 'car',\n",
       "       'radio/TV', 'radio/TV', 'business', 'business', 'radio/TV',\n",
       "       'radio/TV', 'radio/TV', 'car', 'car', 'domestic appliances', 'car',\n",
       "       'car', 'car', 'business', 'car', 'radio/TV', 'radio/TV',\n",
       "       'furniture/equipment', 'furniture/equipment', 'business', 'car',\n",
       "       'car', 'car', 'car', 'furniture/equipment', 'car', 'business',\n",
       "       'radio/TV', 'repairs', 'car', 'car', 'radio/TV', 'car', 'car',\n",
       "       'car', 'furniture/equipment', 'radio/TV', 'car', 'car', 'radio/TV',\n",
       "       'furniture/equipment', 'car', 'furniture/equipment', 'radio/TV',\n",
       "       'car', 'education', 'car', 'radio/TV', 'car', 'car', 'car',\n",
       "       'radio/TV', 'car', 'repairs', 'radio/TV', 'car', 'education',\n",
       "       'car', 'car', 'business', 'radio/TV', 'car', 'education',\n",
       "       'education', 'business', 'car', 'furniture/equipment',\n",
       "       'furniture/equipment', 'furniture/equipment',\n",
       "       'furniture/equipment', 'car', 'furniture/equipment', 'car', 'car',\n",
       "       'education', 'radio/TV', 'furniture/equipment', 'radio/TV', 'car',\n",
       "       'car', 'radio/TV', 'radio/TV', 'car', 'car', 'business',\n",
       "       'radio/TV', 'car', 'domestic appliances', 'car', 'car',\n",
       "       'domestic appliances', 'radio/TV', 'vacation/others', 'radio/TV',\n",
       "       'car', 'radio/TV', 'furniture/equipment', 'car',\n",
       "       'furniture/equipment', 'car', 'car', 'business', 'car', 'business',\n",
       "       'business', 'car', 'business', 'radio/TV', 'radio/TV', 'car',\n",
       "       'radio/TV', 'furniture/equipment', 'car', 'radio/TV',\n",
       "       'furniture/equipment', 'car', 'repairs', 'business',\n",
       "       'furniture/equipment', 'furniture/equipment', 'car', 'car',\n",
       "       'radio/TV', 'radio/TV', 'car', 'car', 'radio/TV', 'car', 'car',\n",
       "       'car', 'education', 'furniture/equipment', 'car', 'car', 'car',\n",
       "       'business', 'radio/TV', 'furniture/equipment',\n",
       "       'furniture/equipment', 'furniture/equipment', 'radio/TV',\n",
       "       'furniture/equipment', 'business', 'furniture/equipment',\n",
       "       'furniture/equipment', 'car', 'business', 'domestic appliances',\n",
       "       'furniture/equipment', 'car', 'radio/TV', 'radio/TV', 'car',\n",
       "       'radio/TV', 'car', 'car', 'car', 'radio/TV', 'furniture/equipment',\n",
       "       'education', 'business', 'business', 'car', 'car', 'business',\n",
       "       'radio/TV', 'car', 'car', 'radio/TV', 'car', 'radio/TV',\n",
       "       'furniture/equipment', 'furniture/equipment',\n",
       "       'furniture/equipment', 'car', 'car', 'car', 'radio/TV', 'radio/TV',\n",
       "       'radio/TV', 'car', 'education', 'car', 'car', 'radio/TV',\n",
       "       'furniture/equipment', 'radio/TV', 'business', 'business',\n",
       "       'vacation/others', 'car', 'car', 'furniture/equipment',\n",
       "       'furniture/equipment', 'furniture/equipment', 'radio/TV',\n",
       "       'radio/TV', 'car', 'furniture/equipment', 'car',\n",
       "       'furniture/equipment', 'car', 'radio/TV', 'car',\n",
       "       'furniture/equipment', 'radio/TV', 'car', 'radio/TV', 'radio/TV',\n",
       "       'radio/TV', 'radio/TV', 'radio/TV', 'education', 'car', 'car',\n",
       "       'car', 'furniture/equipment', 'car', 'furniture/equipment', 'car',\n",
       "       'furniture/equipment', 'car', 'furniture/equipment', 'radio/TV',\n",
       "       'business', 'business', 'car', 'furniture/equipment', 'car',\n",
       "       'radio/TV', 'radio/TV', 'radio/TV', 'car', 'furniture/equipment',\n",
       "       'radio/TV', 'car', 'car', 'radio/TV', 'repairs', 'radio/TV',\n",
       "       'radio/TV', 'radio/TV', 'radio/TV', 'car', 'repairs', 'car', 'car',\n",
       "       'business', 'radio/TV', 'radio/TV', 'radio/TV', 'business', 'car',\n",
       "       'car', 'furniture/equipment', 'business', 'car', 'car',\n",
       "       'furniture/equipment', 'furniture/equipment', 'business',\n",
       "       'radio/TV', 'car', 'radio/TV', 'education', 'radio/TV', 'radio/TV',\n",
       "       'furniture/equipment', 'car', 'furniture/equipment', 'car',\n",
       "       'radio/TV', 'radio/TV', 'car'], dtype=object)"
      ]
     },
     "execution_count": 28,
     "metadata": {},
     "output_type": "execute_result"
    }
   ],
   "source": [
    "proposito = np.array(banco['Purpose'])\n",
    "proposito"
   ]
  },
  {
   "cell_type": "markdown",
   "metadata": {},
   "source": [
    "### **Diagramas de Barras**\n",
    "Son útilies para representar las frecuencias de variables cualitativas. En el eje $x$ ubicamos las categorías o valores de la variable, mientras en el eje $y$ podemos ubicar las frecuencias absolutas o relativas.\n",
    "\n",
    "Para contruir el diagrama de barras importaremos la librería matplotlib y usaremos la función bar()."
   ]
  },
  {
   "cell_type": "markdown",
   "metadata": {},
   "source": [
    "Construyamos el diagrama de barras para la venta de gaseosas. De la variable marcas_gaseosas (que es un diccionario) vamos a extraer las categorías con el comando keys() y los valores con values() para finalmente convertir estos dos objetos en listas con el comando list()."
   ]
  },
  {
   "cell_type": "code",
   "execution_count": 29,
   "metadata": {},
   "outputs": [
    {
     "data": {
      "image/png": "[encoded data removed]",
      "text/plain": [
       "<Figure size 720x360 with 1 Axes>"
      ]
     },
     "metadata": {
      "needs_background": "light"
     },
     "output_type": "display_data"
    }
   ],
   "source": [
    "import matplotlib.pyplot as plt\n",
    "\n",
    "marcas_g = list(frec_marcas_gaseosas.keys())\n",
    "valores_g = list(frec_marcas_gaseosas.values())\n",
    "  \n",
    "fig = plt.figure(figsize = (10, 5))\n",
    " \n",
    "# creating the bar plot\n",
    "plt.bar(marcas_g, valores_g, color ='blue',\n",
    "        width = 0.4)\n",
    " \n",
    "#plt.xlabel(\"Courses offered\")\n",
    "#plt.ylabel(\"No. of students enrolled\")\n",
    "#plt.title(\"Students enrolled in different courses\")\n",
    "plt.show()"
   ]
  },
  {
   "cell_type": "markdown",
   "metadata": {},
   "source": [
    "### **Tabla de frecuencias datos agrupados**"
   ]
  },
  {
   "cell_type": "markdown",
   "metadata": {},
   "source": [
    "Vamos a construir una función que nos calcule los puntos de corte de las clases generadas para calcular las frecuencias de datos cuantitativos agrupados."
   ]
  },
  {
   "cell_type": "code",
   "execution_count": 30,
   "metadata": {},
   "outputs": [],
   "source": [
    "def puntos_corte(x):\n",
    "    k = int(1 + 3.332*np.log10(len(x))) + 1 #Se calcula el número de clases utilizando la fórmula de sturges\n",
    "    amp = (x.max() - x.min()) / k #Cálculo de la amplitud\n",
    "\n",
    "    x_i = [] #Se crea una lista vacia\n",
    "\n",
    "    for i in range(k + 1):\n",
    "        x_i.append(x.min() + i*amp) #Se generan los puntos de corte agragandolos a la lista vacia x_i\n",
    "    return x_i\n",
    "\n",
    "\n",
    "def frecuencia_clases(x):\n",
    "    k = int(1 + 3.332*np.log10(len(x))) + 1\n",
    "\n",
    "    frec_i = []\n",
    "\n",
    "    for j in range(k):\n",
    "        if j < k-1:\n",
    "            frec_i.append(len(x[(x >=  puntos_corte(x)[j]) & (x < puntos_corte(x)[j+1])]))\n",
    "        elif j >= k-1:\n",
    "            frec_i.append(len(x[(x >=  puntos_corte(x)[j]) & (x <= puntos_corte(x)[j+1])]))\n",
    "    return frec_i"
   ]
  },
  {
   "cell_type": "markdown",
   "metadata": {},
   "source": [
    "### **Ejemplo**\n",
    "\n",
    "Los siguientes datos representan la duración de una llamada que realizan personas a un call center en minutos.  "
   ]
  },
  {
   "cell_type": "code",
   "execution_count": 31,
   "metadata": {},
   "outputs": [
    {
     "data": {
      "text/plain": [
       "array([ 3.68127231,  9.70952279,  7.12818835, 11.99502017, 11.91966131,\n",
       "        4.81629647,  4.87049957, 12.22621049, 14.41395095, 13.26305689,\n",
       "        6.00944178,  8.01393176, 10.56848109, 10.97782838,  6.18351057,\n",
       "        8.8567466 ,  8.04316431,  1.19275829, 11.8195727 , 13.35697667,\n",
       "        6.10840377,  9.6155465 ,  2.05533738,  6.16353608, 14.06396143,\n",
       "       10.11929401,  6.56083609, 12.042222  ,  5.43570571,  8.95338114,\n",
       "       13.16778345,  7.10642793, 12.23006699,  3.01273554, 10.8596536 ,\n",
       "       10.86413831,  4.06308948, 13.9481468 ,  7.18997058, 13.73042343,\n",
       "        1.83732912,  3.58001917,  1.6629739 , 10.44833321,  9.32474692,\n",
       "        8.46634228,  1.60653688,  8.86006312,  5.61535824,  8.04153566,\n",
       "        2.56652045,  9.50071189,  8.923225  ,  1.09469687,  9.64418392,\n",
       "       13.76972041, 12.06733786, 14.88914053, 14.42322467, 12.08749789,\n",
       "        4.99351344,  9.74883387,  7.69331314,  3.7394525 ,  6.35244433,\n",
       "        1.75423159,  7.32307772, 14.74806638,  2.73519781,  2.67133257,\n",
       "       11.33932279,  9.22225087,  7.60285548,  2.49977544,  4.20905992,\n",
       "       13.59951273,  6.83454953,  8.50192328,  1.08691923,  5.20898388,\n",
       "        7.11650441,  9.57008596, 13.85477306,  9.76031338, 10.88396591,\n",
       "        3.09767202, 11.44488773, 12.63409789,  9.87216077,  7.13633834,\n",
       "        3.13601885,  8.95773461,  8.39513989, 14.32000269,  7.7250285 ,\n",
       "        8.03583389,  8.5162947 , 12.46882894,  1.79961893, 10.3719044 ])"
      ]
     },
     "execution_count": 31,
     "metadata": {},
     "output_type": "execute_result"
    }
   ],
   "source": [
    "np.random.seed(1234)\n",
    "\n",
    "llamadas = 14*np.random.rand(100) + 1\n",
    "llamadas"
   ]
  },
  {
   "cell_type": "markdown",
   "metadata": {},
   "source": [
    "Con la anterior función calculamos los puntos de corte de las clases."
   ]
  },
  {
   "cell_type": "code",
   "execution_count": 32,
   "metadata": {},
   "outputs": [
    {
     "data": {
      "text/plain": [
       "[1.0869192322198116,\n",
       " 2.8121968940219677,\n",
       " 4.537474555824124,\n",
       " 6.2627522176262795,\n",
       " 7.988029879428436,\n",
       " 9.713307541230591,\n",
       " 11.438585203032748,\n",
       " 13.163862864834904,\n",
       " 14.88914052663706]"
      ]
     },
     "execution_count": 32,
     "metadata": {},
     "output_type": "execute_result"
    }
   ],
   "source": [
    "puntos_corte(llamadas)"
   ]
  },
  {
   "cell_type": "markdown",
   "metadata": {},
   "source": [
    "Ahora calculamos la frecuencia de cada una de las clases generadas previamente."
   ]
  },
  {
   "cell_type": "code",
   "execution_count": 33,
   "metadata": {},
   "outputs": [
    {
     "data": {
      "text/plain": [
       "[13, 8, 10, 12, 20, 12, 11, 14]"
      ]
     },
     "execution_count": 33,
     "metadata": {},
     "output_type": "execute_result"
    }
   ],
   "source": [
    "frecuencia_clases(llamadas)"
   ]
  },
  {
   "cell_type": "markdown",
   "metadata": {},
   "source": [
    "### **Ejercicio**\n",
    "\n",
    "Consideremos la base de datos de los clientes del Banco de Alemania, vamos a tomar la variable monto solicitado por los clientes."
   ]
  },
  {
   "cell_type": "code",
   "execution_count": null,
   "metadata": {},
   "outputs": [],
   "source": []
  },
  {
   "cell_type": "code",
   "execution_count": null,
   "metadata": {},
   "outputs": [],
   "source": []
  },
  {
   "cell_type": "markdown",
   "metadata": {},
   "source": [
    "### **Histogramas**\n",
    "\n",
    "Los **histogramas** son representaciones gráficas utilizadas para visualizar la frecuencia de datos cuantitativos agrupados en intervalos o clases, permiten identificar la forma en que están distribuidos los datos, así como la presencia de datos atípicos."
   ]
  },
  {
   "cell_type": "markdown",
   "metadata": {},
   "source": [
    "### **Ejemplo**\n",
    "Construyamos el histograma del tiempo de duración de las llamadas en el call center"
   ]
  },
  {
   "cell_type": "code",
   "execution_count": 34,
   "metadata": {},
   "outputs": [
    {
     "data": {
      "image/png": "[encoded data removed]",
      "text/plain": [
       "<Figure size 432x288 with 1 Axes>"
      ]
     },
     "metadata": {
      "needs_background": "light"
     },
     "output_type": "display_data"
    }
   ],
   "source": [
    "plt.hist(llamadas, bins= 8)\n",
    "plt.show()"
   ]
  },
  {
   "cell_type": "markdown",
   "metadata": {},
   "source": [
    "### **Ejercicio**\n",
    "\n",
    "Construir el histograma de la variable credito."
   ]
  },
  {
   "cell_type": "code",
   "execution_count": null,
   "metadata": {},
   "outputs": [],
   "source": [
    "plt..."
   ]
  },
  {
   "cell_type": "markdown",
   "metadata": {},
   "source": [
    "## **Diagramas circulares (Pastel)**\n",
    "\n",
    "La gráfica de **pastel** proporciona otra gráfica para presentar distribuciones de frecuencia re-\n",
    "lativa y de frecuencia porcentual de datos cualitativos. Para elaborar una gráfica de pastel, pri-\n",
    "mero se dibuja un círculo que representa todos los datos. Después se usa la frecuencia relativa\n",
    "para subdividir el círculo en sectores, o partes, que corresponden a la frecuencia relativa de\n",
    "cada clase."
   ]
  },
  {
   "cell_type": "code",
   "execution_count": 37,
   "metadata": {},
   "outputs": [
    {
     "data": {
      "image/png": "[encoded data removed]",
      "text/plain": [
       "<Figure size 432x288 with 1 Axes>"
      ]
     },
     "metadata": {},
     "output_type": "display_data"
    }
   ],
   "source": [
    "plt.pie(valores_g, labels = marcas_g)\n",
    "plt.show()"
   ]
  },
  {
   "cell_type": "code",
   "execution_count": 38,
   "metadata": {},
   "outputs": [
    {
     "data": {
      "image/png": "[encoded data removed]",
      "text/plain": [
       "<Figure size 432x288 with 1 Axes>"
      ]
     },
     "metadata": {},
     "output_type": "display_data"
    }
   ],
   "source": [
    "desfase = (0, 0, 0.1, 0, 0)\n",
    "\n",
    "plt.pie(valores_g, labels = marcas_g, autopct = '%0.1f %%', explode= desfase)\n",
    "plt.show()"
   ]
  },
  {
   "cell_type": "markdown",
   "metadata": {},
   "source": [
    "## **Medidas de tendencia central y de dispersión**"
   ]
  },
  {
   "cell_type": "markdown",
   "metadata": {},
   "source": [
    "Para calcular las medidas de tendencia central y de dispersión en Python, vamos a utilizar la librería statistics."
   ]
  },
  {
   "cell_type": "code",
   "execution_count": 39,
   "metadata": {},
   "outputs": [],
   "source": [
    "import statistics as stats"
   ]
  },
  {
   "cell_type": "markdown",
   "metadata": {},
   "source": [
    "### **Cálculo de promedios y de valores medios**\n",
    "La **media** puede considerarse como el *\"punto de equilibrio\"* de un conjunto de datos. Se calcula sumando todas las observacionesy dividiendo por el tamaño de la muestra. Es decir, \n",
    "$$\n",
    "    \\bar{x} = \\frac{1}{n}\\sum_{i=1}^n x_i\n",
    "$$\n",
    "\n",
    "Para calcular la media utilizaremos la función Media: mean(data) de la librería statistics\n",
    "\n",
    "La función mean() devuelve la media aritmética de los datos de una muestra o población. Esta media se calcula sumando todos los valores y después el resultado de la suma se divide entre el número de elementos.\n",
    "\n",
    "Si no se facilitan elementos la función producirá el error StatisticsError."
   ]
  },
  {
   "cell_type": "markdown",
   "metadata": {},
   "source": [
    "### **Ejemplo**\n",
    "Consideremos una muestra de edades de 10 personas."
   ]
  },
  {
   "cell_type": "code",
   "execution_count": 40,
   "metadata": {},
   "outputs": [
    {
     "data": {
      "text/plain": [
       "31"
      ]
     },
     "execution_count": 40,
     "metadata": {},
     "output_type": "execute_result"
    }
   ],
   "source": [
    "edades = [22, 23, 26, 26, 26, 34, 34, 38, 40, 41]\n",
    "stats.mean(edades)"
   ]
  },
  {
   "cell_type": "markdown",
   "metadata": {},
   "source": [
    "Podemos calcular la media con análisis un poco más detallada sin utilizar un comado directamente"
   ]
  },
  {
   "cell_type": "code",
   "execution_count": 41,
   "metadata": {},
   "outputs": [
    {
     "data": {
      "text/plain": [
       "31.0"
      ]
     },
     "execution_count": 41,
     "metadata": {},
     "output_type": "execute_result"
    }
   ],
   "source": [
    "sum(edades) / len(edades)"
   ]
  },
  {
   "cell_type": "markdown",
   "metadata": {},
   "source": [
    "### **Ejercicio 1**\n",
    "Calcular la media para la base de datos de duración de la llamadas en el call center de las dos maneras descritas en el ejemplo."
   ]
  },
  {
   "cell_type": "code",
   "execution_count": null,
   "metadata": {},
   "outputs": [],
   "source": []
  },
  {
   "cell_type": "markdown",
   "metadata": {},
   "source": [
    "### **Ejercicio 2**\n",
    "Calcular la media para la base de datos del banco alemán de las dos maneras descritas en el ejemplo."
   ]
  },
  {
   "cell_type": "code",
   "execution_count": null,
   "metadata": {},
   "outputs": [],
   "source": []
  },
  {
   "cell_type": "markdown",
   "metadata": {},
   "source": [
    "### **Mediana: median(data)**\n",
    "La **mediana** es el dato central en un conjunto ordenado de datos de tamaño $n$. Para calcularla es necesario orgaizar los datos de manera ascendente y aplicar\n",
    "\n",
    "$$\n",
    "    \\tilde{x} = \\left\\{\n",
    "                \\begin{array}{ll}\n",
    "                  x_{\\frac{n+1}{2}},\\;\\;{\\rm{si}}\\;\\;\\;n\\;\\text{es impar}\\\\\n",
    "                  \\left[x_{\\frac{n}{2}} + x_{\\frac{n}{2}+1}\\right]\\frac{1}{2},\\;\\;{\\rm{si}}\\;n\\;{\\rm{\\text{es par}}}\n",
    "                \\end{array}\n",
    "              \\right.\n",
    "$$\n",
    "\n",
    "*Observación:\n",
    "La mediana es una medida **robusta**, es decir, no se ve afectada por la presencia de datos atípicos, por lo que se considera más`respresentativa que la media cuando los datos representan distribuciones asimétricas.*\n",
    "\n",
    "La función median() devuelve la mediana o valor medio de los datos. La mediana es el valor central de un grupo de números ordenados por tamaño. Si la cantidad de elementos es par, la mediana es el promedio de los dos números centrales.\n",
    "\n",
    "La función no requiere que la secuencia de números esté ordenada. Si no hay elementos la función retorna el error StatisticsError."
   ]
  },
  {
   "cell_type": "code",
   "execution_count": 42,
   "metadata": {},
   "outputs": [
    {
     "data": {
      "text/plain": [
       "30.0"
      ]
     },
     "execution_count": 42,
     "metadata": {},
     "output_type": "execute_result"
    }
   ],
   "source": [
    "edades = [22, 23, 26, 26, 26, 34, 34, 38, 40, 41]\n",
    "stats.median(edades)"
   ]
  },
  {
   "cell_type": "markdown",
   "metadata": {},
   "source": [
    "### **Moda: mode(data)**\n",
    "La moda de un conjunto de datos es la observación con mayor frecuencia. A diferencia de la media y la mediana, la moda no es única. Cuando el conjunto de datos presenta dos o más modas diremos que es **multimodal.**\n",
    "\n",
    "La función mode() devuelve el valor más frecuente de los datos.\n",
    "\n",
    "Si no hay elementos la función produce el error StatisticsError"
   ]
  },
  {
   "cell_type": "code",
   "execution_count": 43,
   "metadata": {},
   "outputs": [
    {
     "data": {
      "text/plain": [
       "26"
      ]
     },
     "execution_count": 43,
     "metadata": {},
     "output_type": "execute_result"
    }
   ],
   "source": [
    "edades = [22, 23, 26, 26, 26, 34, 34, 38, 40, 41]\n",
    "stats.mode(edades)"
   ]
  },
  {
   "cell_type": "markdown",
   "metadata": {},
   "source": [
    "Cuando el conjunto de datos tiene dos o más modas utilizamos la función multimode().\n",
    "\n",
    "*Observación:\n",
    "La función multimoda de la librería statistics está disponible a partir de Python 3.8 y versiones superiores.*"
   ]
  },
  {
   "cell_type": "code",
   "execution_count": 44,
   "metadata": {},
   "outputs": [
    {
     "data": {
      "text/plain": [
       "['nike',\n",
       " 'adidas',\n",
       " 'nike',\n",
       " 'jordan',\n",
       " 'jordan',\n",
       " 'rebook',\n",
       " 'under-armour',\n",
       " 'adidas']"
      ]
     },
     "execution_count": 44,
     "metadata": {},
     "output_type": "execute_result"
    }
   ],
   "source": [
    "marcas_ropa = ['nike', 'adidas', 'nike', 'jordan','jordan', 'rebook', 'under-armour', 'adidas']\n",
    "marcas_ropa"
   ]
  },
  {
   "cell_type": "code",
   "execution_count": 45,
   "metadata": {},
   "outputs": [
    {
     "data": {
      "text/plain": [
       "['nike', 'adidas', 'jordan']"
      ]
     },
     "execution_count": 45,
     "metadata": {},
     "output_type": "execute_result"
    }
   ],
   "source": [
    "stats.multimode(marcas_ropa)"
   ]
  },
  {
   "cell_type": "markdown",
   "metadata": {},
   "source": [
    "## **Medidas de dispersión**\n",
    "\n",
    "### **Varianza (población): pvariance(data, mu=None)**\n",
    "La varianza es la suma de las diferencias con la media elevadas al cuadrado.\n",
    "$$\n",
    "  \\sigma^2 = \\frac{1}{N}\\sum_{i=1}^N (x_i - \\mu)^2 \n",
    "$$\n",
    "\n",
    "La función pvariance() devuelve la varianza de una población de datos. Esta función es equivalente a variance() pero se aplica a una población en lugar de a una muestra.\n",
    "\n",
    "La varianza es la media de las diferencias con la media elevadas al cuadrado."
   ]
  },
  {
   "cell_type": "code",
   "execution_count": 46,
   "metadata": {},
   "outputs": [
    {
     "data": {
      "text/plain": [
       "46.8"
      ]
     },
     "execution_count": 46,
     "metadata": {},
     "output_type": "execute_result"
    }
   ],
   "source": [
    "edades = [22, 23, 26, 26, 26, 34, 34, 38, 40, 41]\n",
    "stats.pvariance(edades)   "
   ]
  },
  {
   "cell_type": "markdown",
   "metadata": {},
   "source": [
    "### **Desviación estándar (población): pstdev(data, mu=None)**\n",
    "\n",
    "La función pstdev() devuelve la desviación estándar de una población de datos, que se corresponde con la raíz cuadrada de la varianza de dicha población. Esta función es equivalente a stdev() pero se aplica a una población en lugar de a una muestra.\n",
    "\n",
    "La desviación estándar mide cuánto se separan los datos. Así, para cada valor se tiene una forma de saber si es muy grande, muy pequeño o normal. Permite conocer a qué distancia están los valores de la desviación estándar de la media.\n",
    "\n",
    "El argumento mu es opcional y si se facilita debe ser la media de los datos de la población. En caso contrario, la función lo calculará automáticamente.\n",
    "\n",
    "$$\n",
    "    \\sigma = \\sqrt{\\sigma^2}\n",
    "$$"
   ]
  },
  {
   "cell_type": "code",
   "execution_count": 47,
   "metadata": {},
   "outputs": [
    {
     "data": {
      "text/plain": [
       "6.841052550594828"
      ]
     },
     "execution_count": 47,
     "metadata": {},
     "output_type": "execute_result"
    }
   ],
   "source": [
    "\n",
    "edades = [22, 23, 26, 26, 26, 34, 34, 38, 40, 41]\n",
    "stats.pstdev(edades)"
   ]
  },
  {
   "cell_type": "markdown",
   "metadata": {},
   "source": [
    "### **Varianza (muestra): variance(data, xbar=None)**\n",
    "\n",
    "La función variance() devuelve la varianza de una muestra de datos. La varianza mide en qué medida se dispersan los valores de una muestra alrededor de un valor central.\n",
    "\n",
    "El argumento xbar es opcional y si se facilita debe ser la media de los datos. En caso contrario, la función calculará este dato automáticamente.\n",
    "\n",
    "Para calcular la varianza de una población entera utilizar la función pvariance().\n",
    "\n",
    "Si no hay elementos o hay menos de dos la función producirá el error StatisticsError\n",
    "\n",
    "$$\n",
    "  \\text{var} = \\frac{1}{N-1}\\sum_{i=1}^N (x_i - \\bar{x})^2 \n",
    "$$"
   ]
  },
  {
   "cell_type": "code",
   "execution_count": 48,
   "metadata": {},
   "outputs": [
    {
     "data": {
      "text/plain": [
       "54.14285714285714"
      ]
     },
     "execution_count": 48,
     "metadata": {},
     "output_type": "execute_result"
    }
   ],
   "source": [
    "muestra_edades = [22, 23, 26, 26, 34, 38, 40]\n",
    "stats.variance(muestra_edades)"
   ]
  },
  {
   "cell_type": "markdown",
   "metadata": {},
   "source": [
    "### **Desviación estándar (muestra): stdev(data, xbar=None)**\n",
    "\n",
    "La función stdev() devuelve la desviación estándar de una muestra de datos, que se corresponde con la raíz cuadrada de la varianza de dicha muestra.\n",
    "\n",
    "La desviación estándar mide cuánto se separan los datos. Así, para cada valor se tiene una forma de saber si es muy grande, muy pequeño o normal. Permite conocer a qué distancia están los valores de la desviación estándar de la media.\n",
    "\n",
    "Para calcular la desviación estándar de una población entera utilizar la función pstdev().\n",
    "\n",
    "El argumento xbar es opcional y si se facilita debe ser la media de los datos. En caso contrario, la función lo calculará automáticamente.\n",
    "\n",
    "$$\n",
    "    \\text{st} = \\sqrt{\\text{var}}\n",
    "$$"
   ]
  },
  {
   "cell_type": "code",
   "execution_count": 49,
   "metadata": {},
   "outputs": [
    {
     "data": {
      "text/plain": [
       "7.358183005529092"
      ]
     },
     "execution_count": 49,
     "metadata": {},
     "output_type": "execute_result"
    }
   ],
   "source": [
    "muestra_edades = [22, 23, 26, 26, 34, 38, 40]\n",
    "stats.stdev(muestra_edades)"
   ]
  },
  {
   "cell_type": "markdown",
   "metadata": {},
   "source": [
    "### **Ejercicio**\n",
    "\n",
    "Calcular los estadísticos utilizados previamente para la siguiente lista de producción de automoviles diarios vendidos en un concesionario."
   ]
  },
  {
   "cell_type": "code",
   "execution_count": 50,
   "metadata": {},
   "outputs": [],
   "source": [
    "autos_vendidos = [19, 22, 34, 26, 32, 30, 24, 24]"
   ]
  },
  {
   "cell_type": "code",
   "execution_count": null,
   "metadata": {},
   "outputs": [],
   "source": []
  },
  {
   "cell_type": "markdown",
   "metadata": {},
   "source": [
    "### **Cuartiles**\n",
    "Los **cuantiles** son medidas que dividen el conjunto de datos en partes iguales."
   ]
  },
  {
   "cell_type": "code",
   "execution_count": 57,
   "metadata": {},
   "outputs": [
    {
     "data": {
      "image/png": "[encoded data removed]",
      "text/plain": [
       "<IPython.core.display.Image object>"
      ]
     },
     "execution_count": 57,
     "metadata": {
      "image/png": {
       "height": 270,
       "width": 770
      }
     },
     "output_type": "execute_result"
    }
   ],
   "source": [
    "Image(\"local/images/quantile.png\", width = 770, height = 270)\n"
   ]
  },
  {
   "cell_type": "markdown",
   "metadata": {},
   "source": [
    "* De donde, tenemos que los quintiles dividen las observaciones en cinco partes iguales, los deciles en 10 partes iguales, los percentiles en 100 y así sucesivamente.\n",
    "* En particular, trabajeremos con los cuartiles, que dividen el conjunto de observaciones en cuatro partes iguales y los denotaremos por $Q_1$, $Q_2$, $Q_3$ y $Q_4$.\n",
    "* Es importante observar que el cuartil número dos es quien sobrepasa el 50% de los datos y es sobrepasado por el 50% de los dos restantes, por lo que equivale a la mediana de las observaciones.\n",
    "\n",
    "### **Cuartiles**\n",
    "* **Cuartil 1 $(Q_1)$**: Valor de la variable que supera el 25% de los datos y es superada por el 75% de los datos.\n",
    "* **Cuartil 2 $(Q_2)$**: Valor de la variable que supera el 50% de los datos y es superada por el 50% de los datos.\n",
    "* **Cuartil 3 $(Q_3)$**: Valor de la variable que supera el 75% de los datos y es superada por el 25% de los datos.\n",
    "\n",
    "### **Nota**\n",
    "Para calcular los cuartiles siempre es necesario organizar los datos de manera ascendente.\n",
    "\n",
    "Podemos calcular los cuartiles lo hacemos de la siguiente manera\n",
    "\n",
    "$$\n",
    "    \\tilde{Q_i} = \\left\\{\n",
    "                \\begin{array}{ll}\n",
    "                  x_{\\frac{k(n+1)}{4}},\\;\\;{\\rm{si}}\\;\\;\\;n\\;\\text{es impar}\\\\\n",
    "                  \\left[x_{\\frac{kn}{4}} + x_{\\frac{kn}{4}+1}\\right]\\frac{k}{4},\\;\\;{\\rm{si}}\\;n\\;{\\rm{\\text{es par}}}\n",
    "                \\end{array}\n",
    "              \\right.\n",
    "$$"
   ]
  },
  {
   "cell_type": "code",
   "execution_count": 59,
   "metadata": {},
   "outputs": [
    {
     "data": {
      "text/plain": [
       "[25.25, 30.0, 38.5]"
      ]
     },
     "execution_count": 59,
     "metadata": {},
     "output_type": "execute_result"
    }
   ],
   "source": [
    "edades = [22, 23, 26, 26, 26, 34, 34, 38, 40, 41]\n",
    "stats.quantiles(edades, n = 4)"
   ]
  }
 ],
 "metadata": {
  "interpreter": {
   "hash": "1448b48b023bcc9c3d4a79e814720a10ca6d4244f75e0f7ce4af58f96ba2b7d3"
  },
  "kernelspec": {
   "display_name": "Python 3.8.8 64-bit ('base': conda)",
   "language": "python",
   "name": "python3"
  },
  "language_info": {
   "codemirror_mode": {
    "name": "ipython",
    "version": 3
   },
   "file_extension": ".py",
   "mimetype": "text/x-python",
   "name": "python",
   "nbconvert_exporter": "python",
   "pygments_lexer": "ipython3",
   "version": "3.8.8"
  },
  "orig_nbformat": 4
 },
 "nbformat": 4,
 "nbformat_minor": 2
}
